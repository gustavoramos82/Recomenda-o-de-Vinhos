{
  "cells": [
    {
      "cell_type": "markdown",
      "metadata": {
        "id": "jSkthNhG_ZAl"
      },
      "source": [
        "# Sistema de Recomendação de vinhos\n",
        "\n",
        "## 1ª Questão\n",
        "Análise exploratória (3 pontos) : realize as análises deste conjunto de dados, crie gráficos e anote as suas idéias."
      ]
    },
    {
      "cell_type": "code",
      "source": [
        "!pip3 install -U spacy"
      ],
      "metadata": {
        "colab": {
          "base_uri": "https://localhost:8080/"
        },
        "id": "zIh_Ww9jJB9s",
        "outputId": "353a1114-405e-4d33-8f0e-61c01715c218"
      },
      "execution_count": 41,
      "outputs": [
        {
          "output_type": "stream",
          "name": "stdout",
          "text": [
            "Looking in indexes: https://pypi.org/simple, https://us-python.pkg.dev/colab-wheels/public/simple/\n",
            "Requirement already satisfied: spacy in /usr/local/lib/python3.7/dist-packages (3.3.1)\n",
            "Collecting spacy\n",
            "  Downloading spacy-3.4.0-cp37-cp37m-manylinux_2_17_x86_64.manylinux2014_x86_64.whl (6.3 MB)\n",
            "\u001b[K     |████████████████████████████████| 6.3 MB 4.5 MB/s \n",
            "\u001b[?25hRequirement already satisfied: srsly<3.0.0,>=2.4.3 in /usr/local/lib/python3.7/dist-packages (from spacy) (2.4.3)\n",
            "Requirement already satisfied: catalogue<2.1.0,>=2.0.6 in /usr/local/lib/python3.7/dist-packages (from spacy) (2.0.7)\n",
            "Requirement already satisfied: tqdm<5.0.0,>=4.38.0 in /usr/local/lib/python3.7/dist-packages (from spacy) (4.64.0)\n",
            "Requirement already satisfied: langcodes<4.0.0,>=3.2.0 in /usr/local/lib/python3.7/dist-packages (from spacy) (3.3.0)\n",
            "Requirement already satisfied: wasabi<1.1.0,>=0.9.1 in /usr/local/lib/python3.7/dist-packages (from spacy) (0.9.1)\n",
            "Requirement already satisfied: spacy-loggers<2.0.0,>=1.0.0 in /usr/local/lib/python3.7/dist-packages (from spacy) (1.0.2)\n",
            "Requirement already satisfied: setuptools in /usr/local/lib/python3.7/dist-packages (from spacy) (57.4.0)\n",
            "Requirement already satisfied: requests<3.0.0,>=2.13.0 in /usr/local/lib/python3.7/dist-packages (from spacy) (2.23.0)\n",
            "Requirement already satisfied: jinja2 in /usr/local/lib/python3.7/dist-packages (from spacy) (2.11.3)\n",
            "Requirement already satisfied: typer<0.5.0,>=0.3.0 in /usr/local/lib/python3.7/dist-packages (from spacy) (0.4.2)\n",
            "Requirement already satisfied: murmurhash<1.1.0,>=0.28.0 in /usr/local/lib/python3.7/dist-packages (from spacy) (1.0.7)\n",
            "Requirement already satisfied: spacy-legacy<3.1.0,>=3.0.9 in /usr/local/lib/python3.7/dist-packages (from spacy) (3.0.9)\n",
            "Requirement already satisfied: cymem<2.1.0,>=2.0.2 in /usr/local/lib/python3.7/dist-packages (from spacy) (2.0.6)\n",
            "Requirement already satisfied: pydantic!=1.8,!=1.8.1,<1.10.0,>=1.7.4 in /usr/local/lib/python3.7/dist-packages (from spacy) (1.8.2)\n",
            "Requirement already satisfied: numpy>=1.15.0 in /usr/local/lib/python3.7/dist-packages (from spacy) (1.21.6)\n",
            "Requirement already satisfied: typing-extensions<4.2.0,>=3.7.4 in /usr/local/lib/python3.7/dist-packages (from spacy) (4.1.1)\n",
            "Requirement already satisfied: pathy>=0.3.5 in /usr/local/lib/python3.7/dist-packages (from spacy) (0.6.2)\n",
            "Requirement already satisfied: packaging>=20.0 in /usr/local/lib/python3.7/dist-packages (from spacy) (21.3)\n",
            "Collecting thinc<8.2.0,>=8.1.0\n",
            "  Downloading thinc-8.1.0-cp37-cp37m-manylinux_2_17_x86_64.manylinux2014_x86_64.whl (821 kB)\n",
            "\u001b[K     |████████████████████████████████| 821 kB 32.5 MB/s \n",
            "\u001b[?25hRequirement already satisfied: preshed<3.1.0,>=3.0.2 in /usr/local/lib/python3.7/dist-packages (from spacy) (3.0.6)\n",
            "Requirement already satisfied: zipp>=0.5 in /usr/local/lib/python3.7/dist-packages (from catalogue<2.1.0,>=2.0.6->spacy) (3.8.0)\n",
            "Requirement already satisfied: pyparsing!=3.0.5,>=2.0.2 in /usr/local/lib/python3.7/dist-packages (from packaging>=20.0->spacy) (3.0.9)\n",
            "Requirement already satisfied: smart-open<6.0.0,>=5.2.1 in /usr/local/lib/python3.7/dist-packages (from pathy>=0.3.5->spacy) (5.2.1)\n",
            "Requirement already satisfied: chardet<4,>=3.0.2 in /usr/local/lib/python3.7/dist-packages (from requests<3.0.0,>=2.13.0->spacy) (3.0.4)\n",
            "Requirement already satisfied: idna<3,>=2.5 in /usr/local/lib/python3.7/dist-packages (from requests<3.0.0,>=2.13.0->spacy) (2.10)\n",
            "Requirement already satisfied: urllib3!=1.25.0,!=1.25.1,<1.26,>=1.21.1 in /usr/local/lib/python3.7/dist-packages (from requests<3.0.0,>=2.13.0->spacy) (1.24.3)\n",
            "Requirement already satisfied: certifi>=2017.4.17 in /usr/local/lib/python3.7/dist-packages (from requests<3.0.0,>=2.13.0->spacy) (2022.6.15)\n",
            "Requirement already satisfied: blis<0.8.0,>=0.7.8 in /usr/local/lib/python3.7/dist-packages (from thinc<8.2.0,>=8.1.0->spacy) (0.7.8)\n",
            "Requirement already satisfied: click<9.0.0,>=7.1.1 in /usr/local/lib/python3.7/dist-packages (from typer<0.5.0,>=0.3.0->spacy) (7.1.2)\n",
            "Requirement already satisfied: MarkupSafe>=0.23 in /usr/local/lib/python3.7/dist-packages (from jinja2->spacy) (2.0.1)\n",
            "Installing collected packages: thinc, spacy\n",
            "  Attempting uninstall: thinc\n",
            "    Found existing installation: thinc 8.0.17\n",
            "    Uninstalling thinc-8.0.17:\n",
            "      Successfully uninstalled thinc-8.0.17\n",
            "  Attempting uninstall: spacy\n",
            "    Found existing installation: spacy 3.3.1\n",
            "    Uninstalling spacy-3.3.1:\n",
            "      Successfully uninstalled spacy-3.3.1\n",
            "\u001b[31mERROR: pip's dependency resolver does not currently take into account all the packages that are installed. This behaviour is the source of the following dependency conflicts.\n",
            "en-core-web-sm 3.3.0 requires spacy<3.4.0,>=3.3.0.dev0, but you have spacy 3.4.0 which is incompatible.\u001b[0m\n",
            "Successfully installed spacy-3.4.0 thinc-8.1.0\n"
          ]
        }
      ]
    },
    {
      "cell_type": "code",
      "source": [
        "!python3 -m spacy download en"
      ],
      "metadata": {
        "colab": {
          "base_uri": "https://localhost:8080/"
        },
        "id": "Kwkj9yJBJJYG",
        "outputId": "697378c4-8d56-410c-a4f8-8401f43fb0f4"
      },
      "execution_count": 42,
      "outputs": [
        {
          "output_type": "stream",
          "name": "stdout",
          "text": [
            "2022-07-16 17:53:34.775183: E tensorflow/stream_executor/cuda/cuda_driver.cc:271] failed call to cuInit: CUDA_ERROR_NO_DEVICE: no CUDA-capable device is detected\n",
            "\u001b[38;5;3m⚠ As of spaCy v3.0, shortcuts like 'en' are deprecated. Please use the\n",
            "full pipeline package name 'en_core_web_sm' instead.\u001b[0m\n",
            "Looking in indexes: https://pypi.org/simple, https://us-python.pkg.dev/colab-wheels/public/simple/\n",
            "Collecting en-core-web-sm==3.4.0\n",
            "  Downloading https://github.com/explosion/spacy-models/releases/download/en_core_web_sm-3.4.0/en_core_web_sm-3.4.0-py3-none-any.whl (12.8 MB)\n",
            "\u001b[K     |████████████████████████████████| 12.8 MB 3.0 MB/s \n",
            "\u001b[?25hRequirement already satisfied: spacy<3.5.0,>=3.4.0 in /usr/local/lib/python3.7/dist-packages (from en-core-web-sm==3.4.0) (3.4.0)\n",
            "Requirement already satisfied: tqdm<5.0.0,>=4.38.0 in /usr/local/lib/python3.7/dist-packages (from spacy<3.5.0,>=3.4.0->en-core-web-sm==3.4.0) (4.64.0)\n",
            "Requirement already satisfied: numpy>=1.15.0 in /usr/local/lib/python3.7/dist-packages (from spacy<3.5.0,>=3.4.0->en-core-web-sm==3.4.0) (1.21.6)\n",
            "Requirement already satisfied: jinja2 in /usr/local/lib/python3.7/dist-packages (from spacy<3.5.0,>=3.4.0->en-core-web-sm==3.4.0) (2.11.3)\n",
            "Requirement already satisfied: pydantic!=1.8,!=1.8.1,<1.10.0,>=1.7.4 in /usr/local/lib/python3.7/dist-packages (from spacy<3.5.0,>=3.4.0->en-core-web-sm==3.4.0) (1.8.2)\n",
            "Requirement already satisfied: catalogue<2.1.0,>=2.0.6 in /usr/local/lib/python3.7/dist-packages (from spacy<3.5.0,>=3.4.0->en-core-web-sm==3.4.0) (2.0.7)\n",
            "Requirement already satisfied: spacy-legacy<3.1.0,>=3.0.9 in /usr/local/lib/python3.7/dist-packages (from spacy<3.5.0,>=3.4.0->en-core-web-sm==3.4.0) (3.0.9)\n",
            "Requirement already satisfied: thinc<8.2.0,>=8.1.0 in /usr/local/lib/python3.7/dist-packages (from spacy<3.5.0,>=3.4.0->en-core-web-sm==3.4.0) (8.1.0)\n",
            "Requirement already satisfied: typing-extensions<4.2.0,>=3.7.4 in /usr/local/lib/python3.7/dist-packages (from spacy<3.5.0,>=3.4.0->en-core-web-sm==3.4.0) (4.1.1)\n",
            "Requirement already satisfied: requests<3.0.0,>=2.13.0 in /usr/local/lib/python3.7/dist-packages (from spacy<3.5.0,>=3.4.0->en-core-web-sm==3.4.0) (2.23.0)\n",
            "Requirement already satisfied: preshed<3.1.0,>=3.0.2 in /usr/local/lib/python3.7/dist-packages (from spacy<3.5.0,>=3.4.0->en-core-web-sm==3.4.0) (3.0.6)\n",
            "Requirement already satisfied: packaging>=20.0 in /usr/local/lib/python3.7/dist-packages (from spacy<3.5.0,>=3.4.0->en-core-web-sm==3.4.0) (21.3)\n",
            "Requirement already satisfied: murmurhash<1.1.0,>=0.28.0 in /usr/local/lib/python3.7/dist-packages (from spacy<3.5.0,>=3.4.0->en-core-web-sm==3.4.0) (1.0.7)\n",
            "Requirement already satisfied: typer<0.5.0,>=0.3.0 in /usr/local/lib/python3.7/dist-packages (from spacy<3.5.0,>=3.4.0->en-core-web-sm==3.4.0) (0.4.2)\n",
            "Requirement already satisfied: langcodes<4.0.0,>=3.2.0 in /usr/local/lib/python3.7/dist-packages (from spacy<3.5.0,>=3.4.0->en-core-web-sm==3.4.0) (3.3.0)\n",
            "Requirement already satisfied: cymem<2.1.0,>=2.0.2 in /usr/local/lib/python3.7/dist-packages (from spacy<3.5.0,>=3.4.0->en-core-web-sm==3.4.0) (2.0.6)\n",
            "Requirement already satisfied: srsly<3.0.0,>=2.4.3 in /usr/local/lib/python3.7/dist-packages (from spacy<3.5.0,>=3.4.0->en-core-web-sm==3.4.0) (2.4.3)\n",
            "Requirement already satisfied: wasabi<1.1.0,>=0.9.1 in /usr/local/lib/python3.7/dist-packages (from spacy<3.5.0,>=3.4.0->en-core-web-sm==3.4.0) (0.9.1)\n",
            "Requirement already satisfied: spacy-loggers<2.0.0,>=1.0.0 in /usr/local/lib/python3.7/dist-packages (from spacy<3.5.0,>=3.4.0->en-core-web-sm==3.4.0) (1.0.2)\n",
            "Requirement already satisfied: setuptools in /usr/local/lib/python3.7/dist-packages (from spacy<3.5.0,>=3.4.0->en-core-web-sm==3.4.0) (57.4.0)\n",
            "Requirement already satisfied: pathy>=0.3.5 in /usr/local/lib/python3.7/dist-packages (from spacy<3.5.0,>=3.4.0->en-core-web-sm==3.4.0) (0.6.2)\n",
            "Requirement already satisfied: zipp>=0.5 in /usr/local/lib/python3.7/dist-packages (from catalogue<2.1.0,>=2.0.6->spacy<3.5.0,>=3.4.0->en-core-web-sm==3.4.0) (3.8.0)\n",
            "Requirement already satisfied: pyparsing!=3.0.5,>=2.0.2 in /usr/local/lib/python3.7/dist-packages (from packaging>=20.0->spacy<3.5.0,>=3.4.0->en-core-web-sm==3.4.0) (3.0.9)\n",
            "Requirement already satisfied: smart-open<6.0.0,>=5.2.1 in /usr/local/lib/python3.7/dist-packages (from pathy>=0.3.5->spacy<3.5.0,>=3.4.0->en-core-web-sm==3.4.0) (5.2.1)\n",
            "Requirement already satisfied: certifi>=2017.4.17 in /usr/local/lib/python3.7/dist-packages (from requests<3.0.0,>=2.13.0->spacy<3.5.0,>=3.4.0->en-core-web-sm==3.4.0) (2022.6.15)\n",
            "Requirement already satisfied: urllib3!=1.25.0,!=1.25.1,<1.26,>=1.21.1 in /usr/local/lib/python3.7/dist-packages (from requests<3.0.0,>=2.13.0->spacy<3.5.0,>=3.4.0->en-core-web-sm==3.4.0) (1.24.3)\n",
            "Requirement already satisfied: idna<3,>=2.5 in /usr/local/lib/python3.7/dist-packages (from requests<3.0.0,>=2.13.0->spacy<3.5.0,>=3.4.0->en-core-web-sm==3.4.0) (2.10)\n",
            "Requirement already satisfied: chardet<4,>=3.0.2 in /usr/local/lib/python3.7/dist-packages (from requests<3.0.0,>=2.13.0->spacy<3.5.0,>=3.4.0->en-core-web-sm==3.4.0) (3.0.4)\n",
            "Requirement already satisfied: blis<0.8.0,>=0.7.8 in /usr/local/lib/python3.7/dist-packages (from thinc<8.2.0,>=8.1.0->spacy<3.5.0,>=3.4.0->en-core-web-sm==3.4.0) (0.7.8)\n",
            "Requirement already satisfied: click<9.0.0,>=7.1.1 in /usr/local/lib/python3.7/dist-packages (from typer<0.5.0,>=0.3.0->spacy<3.5.0,>=3.4.0->en-core-web-sm==3.4.0) (7.1.2)\n",
            "Requirement already satisfied: MarkupSafe>=0.23 in /usr/local/lib/python3.7/dist-packages (from jinja2->spacy<3.5.0,>=3.4.0->en-core-web-sm==3.4.0) (2.0.1)\n",
            "Installing collected packages: en-core-web-sm\n",
            "  Attempting uninstall: en-core-web-sm\n",
            "    Found existing installation: en-core-web-sm 3.3.0\n",
            "    Uninstalling en-core-web-sm-3.3.0:\n",
            "      Successfully uninstalled en-core-web-sm-3.3.0\n",
            "Successfully installed en-core-web-sm-3.4.0\n",
            "\u001b[38;5;2m✔ Download and installation successful\u001b[0m\n",
            "You can now load the package via spacy.load('en_core_web_sm')\n"
          ]
        }
      ]
    },
    {
      "cell_type": "code",
      "execution_count": 46,
      "metadata": {
        "id": "cxnsqL-K-8NW"
      },
      "outputs": [],
      "source": [
        "# Importando os módulos\n",
        "import numpy as np\n",
        "import pandas as pd\n",
        "import matplotlib.pyplot as plt\n",
        "import seaborn as sns\n",
        "sns.set(style='darkgrid')\n",
        "\n",
        "import nltk\n",
        "from nltk.corpus import stopwords\n",
        "from nltk.stem import WordNetLemmatizer\n",
        "\n",
        "from sklearn.preprocessing import LabelEncoder\n",
        "from sklearn.cluster import KMeans\n",
        "\n",
        "import spacy\n",
        "nlp = spacy.load('en_core_web_sm')\n",
        "\n",
        "from yellowbrick.cluster import KElbowVisualizer\n"
      ]
    },
    {
      "cell_type": "code",
      "execution_count": 2,
      "metadata": {
        "colab": {
          "base_uri": "https://localhost:8080/"
        },
        "id": "gFctA_ygUy_i",
        "outputId": "68111907-0af5-4024-faaf-f6a5eac68559"
      },
      "outputs": [
        {
          "output_type": "stream",
          "name": "stderr",
          "text": [
            "[nltk_data] Downloading package stopwords to /root/nltk_data...\n",
            "[nltk_data]   Unzipping corpora/stopwords.zip.\n",
            "[nltk_data] Downloading package wordnet to /root/nltk_data...\n",
            "[nltk_data] Downloading package punkt to /root/nltk_data...\n",
            "[nltk_data]   Unzipping tokenizers/punkt.zip.\n",
            "[nltk_data] Downloading package omw-1.4 to /root/nltk_data...\n"
          ]
        },
        {
          "output_type": "execute_result",
          "data": {
            "text/plain": [
              "True"
            ]
          },
          "metadata": {},
          "execution_count": 2
        }
      ],
      "source": [
        "nltk.download('stopwords')\n",
        "nltk.download('wordnet')\n",
        "nltk.download('punkt')\n",
        "nltk.download('omw-1.4')"
      ]
    },
    {
      "cell_type": "code",
      "execution_count": 3,
      "metadata": {
        "colab": {
          "base_uri": "https://localhost:8080/",
          "height": 704
        },
        "id": "7Na6FnQ8As4A",
        "outputId": "9e6e51c4-cb79-4206-f888-1510182c750e"
      },
      "outputs": [
        {
          "output_type": "execute_result",
          "data": {
            "text/plain": [
              "   Unnamed: 0   country                                        description  \\\n",
              "0           0     Italy  Aromas include tropical fruit, broom, brimston...   \n",
              "1           1  Portugal  This is ripe and fruity, a wine that is smooth...   \n",
              "2           2        US  Tart and snappy, the flavors of lime flesh and...   \n",
              "3           3        US  Pineapple rind, lemon pith and orange blossom ...   \n",
              "4           4        US  Much like the regular bottling from 2012, this...   \n",
              "\n",
              "                          designation  points  price           province  \\\n",
              "0                        Vulkà Bianco      87    NaN  Sicily & Sardinia   \n",
              "1                            Avidagos      87   15.0              Douro   \n",
              "2                                 NaN      87   14.0             Oregon   \n",
              "3                Reserve Late Harvest      87   13.0           Michigan   \n",
              "4  Vintner's Reserve Wild Child Block      87   65.0             Oregon   \n",
              "\n",
              "              region_1           region_2         taster_name  \\\n",
              "0                 Etna                NaN       Kerin O’Keefe   \n",
              "1                  NaN                NaN          Roger Voss   \n",
              "2    Willamette Valley  Willamette Valley        Paul Gregutt   \n",
              "3  Lake Michigan Shore                NaN  Alexander Peartree   \n",
              "4    Willamette Valley  Willamette Valley        Paul Gregutt   \n",
              "\n",
              "  taster_twitter_handle                                              title  \\\n",
              "0          @kerinokeefe                  Nicosia 2013 Vulkà Bianco  (Etna)   \n",
              "1            @vossroger      Quinta dos Avidagos 2011 Avidagos Red (Douro)   \n",
              "2           @paulgwine       Rainstorm 2013 Pinot Gris (Willamette Valley)   \n",
              "3                   NaN  St. Julian 2013 Reserve Late Harvest Riesling ...   \n",
              "4           @paulgwine   Sweet Cheeks 2012 Vintner's Reserve Wild Child...   \n",
              "\n",
              "          variety               winery  \n",
              "0     White Blend              Nicosia  \n",
              "1  Portuguese Red  Quinta dos Avidagos  \n",
              "2      Pinot Gris            Rainstorm  \n",
              "3        Riesling           St. Julian  \n",
              "4      Pinot Noir         Sweet Cheeks  "
            ],
            "text/html": [
              "\n",
              "  <div id=\"df-9f37da1b-3de1-4ca0-8dd6-430186a772bb\">\n",
              "    <div class=\"colab-df-container\">\n",
              "      <div>\n",
              "<style scoped>\n",
              "    .dataframe tbody tr th:only-of-type {\n",
              "        vertical-align: middle;\n",
              "    }\n",
              "\n",
              "    .dataframe tbody tr th {\n",
              "        vertical-align: top;\n",
              "    }\n",
              "\n",
              "    .dataframe thead th {\n",
              "        text-align: right;\n",
              "    }\n",
              "</style>\n",
              "<table border=\"1\" class=\"dataframe\">\n",
              "  <thead>\n",
              "    <tr style=\"text-align: right;\">\n",
              "      <th></th>\n",
              "      <th>Unnamed: 0</th>\n",
              "      <th>country</th>\n",
              "      <th>description</th>\n",
              "      <th>designation</th>\n",
              "      <th>points</th>\n",
              "      <th>price</th>\n",
              "      <th>province</th>\n",
              "      <th>region_1</th>\n",
              "      <th>region_2</th>\n",
              "      <th>taster_name</th>\n",
              "      <th>taster_twitter_handle</th>\n",
              "      <th>title</th>\n",
              "      <th>variety</th>\n",
              "      <th>winery</th>\n",
              "    </tr>\n",
              "  </thead>\n",
              "  <tbody>\n",
              "    <tr>\n",
              "      <th>0</th>\n",
              "      <td>0</td>\n",
              "      <td>Italy</td>\n",
              "      <td>Aromas include tropical fruit, broom, brimston...</td>\n",
              "      <td>Vulkà Bianco</td>\n",
              "      <td>87</td>\n",
              "      <td>NaN</td>\n",
              "      <td>Sicily &amp; Sardinia</td>\n",
              "      <td>Etna</td>\n",
              "      <td>NaN</td>\n",
              "      <td>Kerin O’Keefe</td>\n",
              "      <td>@kerinokeefe</td>\n",
              "      <td>Nicosia 2013 Vulkà Bianco  (Etna)</td>\n",
              "      <td>White Blend</td>\n",
              "      <td>Nicosia</td>\n",
              "    </tr>\n",
              "    <tr>\n",
              "      <th>1</th>\n",
              "      <td>1</td>\n",
              "      <td>Portugal</td>\n",
              "      <td>This is ripe and fruity, a wine that is smooth...</td>\n",
              "      <td>Avidagos</td>\n",
              "      <td>87</td>\n",
              "      <td>15.0</td>\n",
              "      <td>Douro</td>\n",
              "      <td>NaN</td>\n",
              "      <td>NaN</td>\n",
              "      <td>Roger Voss</td>\n",
              "      <td>@vossroger</td>\n",
              "      <td>Quinta dos Avidagos 2011 Avidagos Red (Douro)</td>\n",
              "      <td>Portuguese Red</td>\n",
              "      <td>Quinta dos Avidagos</td>\n",
              "    </tr>\n",
              "    <tr>\n",
              "      <th>2</th>\n",
              "      <td>2</td>\n",
              "      <td>US</td>\n",
              "      <td>Tart and snappy, the flavors of lime flesh and...</td>\n",
              "      <td>NaN</td>\n",
              "      <td>87</td>\n",
              "      <td>14.0</td>\n",
              "      <td>Oregon</td>\n",
              "      <td>Willamette Valley</td>\n",
              "      <td>Willamette Valley</td>\n",
              "      <td>Paul Gregutt</td>\n",
              "      <td>@paulgwine</td>\n",
              "      <td>Rainstorm 2013 Pinot Gris (Willamette Valley)</td>\n",
              "      <td>Pinot Gris</td>\n",
              "      <td>Rainstorm</td>\n",
              "    </tr>\n",
              "    <tr>\n",
              "      <th>3</th>\n",
              "      <td>3</td>\n",
              "      <td>US</td>\n",
              "      <td>Pineapple rind, lemon pith and orange blossom ...</td>\n",
              "      <td>Reserve Late Harvest</td>\n",
              "      <td>87</td>\n",
              "      <td>13.0</td>\n",
              "      <td>Michigan</td>\n",
              "      <td>Lake Michigan Shore</td>\n",
              "      <td>NaN</td>\n",
              "      <td>Alexander Peartree</td>\n",
              "      <td>NaN</td>\n",
              "      <td>St. Julian 2013 Reserve Late Harvest Riesling ...</td>\n",
              "      <td>Riesling</td>\n",
              "      <td>St. Julian</td>\n",
              "    </tr>\n",
              "    <tr>\n",
              "      <th>4</th>\n",
              "      <td>4</td>\n",
              "      <td>US</td>\n",
              "      <td>Much like the regular bottling from 2012, this...</td>\n",
              "      <td>Vintner's Reserve Wild Child Block</td>\n",
              "      <td>87</td>\n",
              "      <td>65.0</td>\n",
              "      <td>Oregon</td>\n",
              "      <td>Willamette Valley</td>\n",
              "      <td>Willamette Valley</td>\n",
              "      <td>Paul Gregutt</td>\n",
              "      <td>@paulgwine</td>\n",
              "      <td>Sweet Cheeks 2012 Vintner's Reserve Wild Child...</td>\n",
              "      <td>Pinot Noir</td>\n",
              "      <td>Sweet Cheeks</td>\n",
              "    </tr>\n",
              "  </tbody>\n",
              "</table>\n",
              "</div>\n",
              "      <button class=\"colab-df-convert\" onclick=\"convertToInteractive('df-9f37da1b-3de1-4ca0-8dd6-430186a772bb')\"\n",
              "              title=\"Convert this dataframe to an interactive table.\"\n",
              "              style=\"display:none;\">\n",
              "        \n",
              "  <svg xmlns=\"http://www.w3.org/2000/svg\" height=\"24px\"viewBox=\"0 0 24 24\"\n",
              "       width=\"24px\">\n",
              "    <path d=\"M0 0h24v24H0V0z\" fill=\"none\"/>\n",
              "    <path d=\"M18.56 5.44l.94 2.06.94-2.06 2.06-.94-2.06-.94-.94-2.06-.94 2.06-2.06.94zm-11 1L8.5 8.5l.94-2.06 2.06-.94-2.06-.94L8.5 2.5l-.94 2.06-2.06.94zm10 10l.94 2.06.94-2.06 2.06-.94-2.06-.94-.94-2.06-.94 2.06-2.06.94z\"/><path d=\"M17.41 7.96l-1.37-1.37c-.4-.4-.92-.59-1.43-.59-.52 0-1.04.2-1.43.59L10.3 9.45l-7.72 7.72c-.78.78-.78 2.05 0 2.83L4 21.41c.39.39.9.59 1.41.59.51 0 1.02-.2 1.41-.59l7.78-7.78 2.81-2.81c.8-.78.8-2.07 0-2.86zM5.41 20L4 18.59l7.72-7.72 1.47 1.35L5.41 20z\"/>\n",
              "  </svg>\n",
              "      </button>\n",
              "      \n",
              "  <style>\n",
              "    .colab-df-container {\n",
              "      display:flex;\n",
              "      flex-wrap:wrap;\n",
              "      gap: 12px;\n",
              "    }\n",
              "\n",
              "    .colab-df-convert {\n",
              "      background-color: #E8F0FE;\n",
              "      border: none;\n",
              "      border-radius: 50%;\n",
              "      cursor: pointer;\n",
              "      display: none;\n",
              "      fill: #1967D2;\n",
              "      height: 32px;\n",
              "      padding: 0 0 0 0;\n",
              "      width: 32px;\n",
              "    }\n",
              "\n",
              "    .colab-df-convert:hover {\n",
              "      background-color: #E2EBFA;\n",
              "      box-shadow: 0px 1px 2px rgba(60, 64, 67, 0.3), 0px 1px 3px 1px rgba(60, 64, 67, 0.15);\n",
              "      fill: #174EA6;\n",
              "    }\n",
              "\n",
              "    [theme=dark] .colab-df-convert {\n",
              "      background-color: #3B4455;\n",
              "      fill: #D2E3FC;\n",
              "    }\n",
              "\n",
              "    [theme=dark] .colab-df-convert:hover {\n",
              "      background-color: #434B5C;\n",
              "      box-shadow: 0px 1px 3px 1px rgba(0, 0, 0, 0.15);\n",
              "      filter: drop-shadow(0px 1px 2px rgba(0, 0, 0, 0.3));\n",
              "      fill: #FFFFFF;\n",
              "    }\n",
              "  </style>\n",
              "\n",
              "      <script>\n",
              "        const buttonEl =\n",
              "          document.querySelector('#df-9f37da1b-3de1-4ca0-8dd6-430186a772bb button.colab-df-convert');\n",
              "        buttonEl.style.display =\n",
              "          google.colab.kernel.accessAllowed ? 'block' : 'none';\n",
              "\n",
              "        async function convertToInteractive(key) {\n",
              "          const element = document.querySelector('#df-9f37da1b-3de1-4ca0-8dd6-430186a772bb');\n",
              "          const dataTable =\n",
              "            await google.colab.kernel.invokeFunction('convertToInteractive',\n",
              "                                                     [key], {});\n",
              "          if (!dataTable) return;\n",
              "\n",
              "          const docLinkHtml = 'Like what you see? Visit the ' +\n",
              "            '<a target=\"_blank\" href=https://colab.research.google.com/notebooks/data_table.ipynb>data table notebook</a>'\n",
              "            + ' to learn more about interactive tables.';\n",
              "          element.innerHTML = '';\n",
              "          dataTable['output_type'] = 'display_data';\n",
              "          await google.colab.output.renderOutput(dataTable, element);\n",
              "          const docLink = document.createElement('div');\n",
              "          docLink.innerHTML = docLinkHtml;\n",
              "          element.appendChild(docLink);\n",
              "        }\n",
              "      </script>\n",
              "    </div>\n",
              "  </div>\n",
              "  "
            ]
          },
          "metadata": {},
          "execution_count": 3
        }
      ],
      "source": [
        "# Importando o arquivo csv\n",
        "wine = pd.read_csv('/content/drive/MyDrive/Datasets/winemag-data-130k-v2.csv')\n",
        "wine.head()"
      ]
    },
    {
      "cell_type": "markdown",
      "metadata": {
        "id": "BYq7N4A5BbXh"
      },
      "source": [
        "### Dicionário dos dados\n",
        "\n",
        "- **country**: País em o vinho foi produzido.\n",
        "- **description**: descrição do produto.\n",
        "- **designation**: a vinheira de onde são tiradas as uvas para produzir o vinho.\n",
        "- **points**: Número de pontos do vinho entre 1 a 100.\n",
        "- **price**: Preço da garrafa.\n",
        "- **province**: Provincia ou o Estado de onde o vinho foi produzido.\n",
        "- **region_2**: Especifica outra região em que o vinho também foi produzido, no caso de houver um.\n",
        "- **taster_name**: Nome da pessoa que provou o vinho.\n",
        "- **taster_twitter_handle**: Endereço do seu twitter.\n",
        "- **title**: titulo da *review* do vinho.\n",
        "- **variety**: Qual foi o tipo de uva usada para se produzir o vinho.\n",
        "- **winery**: Nome da vinheira onde o vinho foi produzido."
      ]
    },
    {
      "cell_type": "code",
      "execution_count": 4,
      "metadata": {
        "colab": {
          "base_uri": "https://localhost:8080/",
          "height": 480
        },
        "id": "xFjroFXDEf1J",
        "outputId": "e34e124a-174b-4182-8edc-1be8cf273da9"
      },
      "outputs": [
        {
          "output_type": "display_data",
          "data": {
            "text/plain": [
              "<Figure size 1080x360 with 1 Axes>"
            ],
            "image/png": "[encoded data removed]"
          },
          "metadata": {
            "needs_background": "light"
          }
        }
      ],
      "source": [
        "plt.figure(figsize=(15,5))\n",
        "plt.title('Frequencia dos Paises Onde os Vinhos São Produzidos',fontsize=14)\n",
        "sns.histplot(x='country',data=wine)\n",
        "plt.xlabel('País')\n",
        "plt.ylabel('Quantidade')\n",
        "plt.xticks(rotation=90);"
      ]
    },
    {
      "cell_type": "markdown",
      "metadata": {
        "id": "O8ytH_mSFHhD"
      },
      "source": [
        "Temos que a maioria das reviews são de vinhos que foram produzido nos Estados Unidos, com mais de 50 mil, e abaixo dele, com cerca de 20 mil estão Itália e França. Por isso preferi me focar nas reviews dos vinhos produzidos nos Estados Unidos, para uma melhor visão."
      ]
    },
    {
      "cell_type": "code",
      "execution_count": 5,
      "metadata": {
        "colab": {
          "base_uri": "https://localhost:8080/"
        },
        "id": "Xt12-SyOor_3",
        "outputId": "8146c470-8902-4c8d-a56a-e26ae8a7c81a"
      },
      "outputs": [
        {
          "output_type": "stream",
          "name": "stderr",
          "text": [
            "/usr/local/lib/python3.7/dist-packages/pandas/core/frame.py:4913: SettingWithCopyWarning: \n",
            "A value is trying to be set on a copy of a slice from a DataFrame\n",
            "\n",
            "See the caveats in the documentation: https://pandas.pydata.org/pandas-docs/stable/user_guide/indexing.html#returning-a-view-versus-a-copy\n",
            "  errors=errors,\n"
          ]
        }
      ],
      "source": [
        "# Criando o dataframe para os Estados Unidos\n",
        "wine_us = wine[wine['country']=='US']\n",
        "wine_us.drop('country',axis=1,inplace=True)"
      ]
    },
    {
      "cell_type": "code",
      "execution_count": 6,
      "metadata": {
        "colab": {
          "base_uri": "https://localhost:8080/",
          "height": 722
        },
        "id": "JkGY2jenpbOn",
        "outputId": "291b7a3e-ac96-48fd-f181-6da9974108e9"
      },
      "outputs": [
        {
          "output_type": "execute_result",
          "data": {
            "text/plain": [
              "    Unnamed: 0                                        description  \\\n",
              "2            2  Tart and snappy, the flavors of lime flesh and...   \n",
              "3            3  Pineapple rind, lemon pith and orange blossom ...   \n",
              "4            4  Much like the regular bottling from 2012, this...   \n",
              "10          10  Soft, supple plum envelopes an oaky structure ...   \n",
              "12          12  Slightly reduced, this wine offers a chalky, t...   \n",
              "\n",
              "                           designation  points  price    province  \\\n",
              "2                                  NaN      87   14.0      Oregon   \n",
              "3                 Reserve Late Harvest      87   13.0    Michigan   \n",
              "4   Vintner's Reserve Wild Child Block      87   65.0      Oregon   \n",
              "10                      Mountain Cuvée      87   19.0  California   \n",
              "12                                 NaN      87   34.0  California   \n",
              "\n",
              "               region_1           region_2         taster_name  \\\n",
              "2     Willamette Valley  Willamette Valley        Paul Gregutt   \n",
              "3   Lake Michigan Shore                NaN  Alexander Peartree   \n",
              "4     Willamette Valley  Willamette Valley        Paul Gregutt   \n",
              "10          Napa Valley               Napa      Virginie Boone   \n",
              "12     Alexander Valley             Sonoma      Virginie Boone   \n",
              "\n",
              "   taster_twitter_handle                                              title  \\\n",
              "2            @paulgwine       Rainstorm 2013 Pinot Gris (Willamette Valley)   \n",
              "3                    NaN  St. Julian 2013 Reserve Late Harvest Riesling ...   \n",
              "4            @paulgwine   Sweet Cheeks 2012 Vintner's Reserve Wild Child...   \n",
              "10               @vboone  Kirkland Signature 2011 Mountain Cuvée Caberne...   \n",
              "12               @vboone  Louis M. Martini 2012 Cabernet Sauvignon (Alex...   \n",
              "\n",
              "               variety              winery  \n",
              "2           Pinot Gris           Rainstorm  \n",
              "3             Riesling          St. Julian  \n",
              "4           Pinot Noir        Sweet Cheeks  \n",
              "10  Cabernet Sauvignon  Kirkland Signature  \n",
              "12  Cabernet Sauvignon    Louis M. Martini  "
            ],
            "text/html": [
              "\n",
              "  <div id=\"df-06d1bfc6-ccbe-4247-8ace-0743ea9b6d75\">\n",
              "    <div class=\"colab-df-container\">\n",
              "      <div>\n",
              "<style scoped>\n",
              "    .dataframe tbody tr th:only-of-type {\n",
              "        vertical-align: middle;\n",
              "    }\n",
              "\n",
              "    .dataframe tbody tr th {\n",
              "        vertical-align: top;\n",
              "    }\n",
              "\n",
              "    .dataframe thead th {\n",
              "        text-align: right;\n",
              "    }\n",
              "</style>\n",
              "<table border=\"1\" class=\"dataframe\">\n",
              "  <thead>\n",
              "    <tr style=\"text-align: right;\">\n",
              "      <th></th>\n",
              "      <th>Unnamed: 0</th>\n",
              "      <th>description</th>\n",
              "      <th>designation</th>\n",
              "      <th>points</th>\n",
              "      <th>price</th>\n",
              "      <th>province</th>\n",
              "      <th>region_1</th>\n",
              "      <th>region_2</th>\n",
              "      <th>taster_name</th>\n",
              "      <th>taster_twitter_handle</th>\n",
              "      <th>title</th>\n",
              "      <th>variety</th>\n",
              "      <th>winery</th>\n",
              "    </tr>\n",
              "  </thead>\n",
              "  <tbody>\n",
              "    <tr>\n",
              "      <th>2</th>\n",
              "      <td>2</td>\n",
              "      <td>Tart and snappy, the flavors of lime flesh and...</td>\n",
              "      <td>NaN</td>\n",
              "      <td>87</td>\n",
              "      <td>14.0</td>\n",
              "      <td>Oregon</td>\n",
              "      <td>Willamette Valley</td>\n",
              "      <td>Willamette Valley</td>\n",
              "      <td>Paul Gregutt</td>\n",
              "      <td>@paulgwine</td>\n",
              "      <td>Rainstorm 2013 Pinot Gris (Willamette Valley)</td>\n",
              "      <td>Pinot Gris</td>\n",
              "      <td>Rainstorm</td>\n",
              "    </tr>\n",
              "    <tr>\n",
              "      <th>3</th>\n",
              "      <td>3</td>\n",
              "      <td>Pineapple rind, lemon pith and orange blossom ...</td>\n",
              "      <td>Reserve Late Harvest</td>\n",
              "      <td>87</td>\n",
              "      <td>13.0</td>\n",
              "      <td>Michigan</td>\n",
              "      <td>Lake Michigan Shore</td>\n",
              "      <td>NaN</td>\n",
              "      <td>Alexander Peartree</td>\n",
              "      <td>NaN</td>\n",
              "      <td>St. Julian 2013 Reserve Late Harvest Riesling ...</td>\n",
              "      <td>Riesling</td>\n",
              "      <td>St. Julian</td>\n",
              "    </tr>\n",
              "    <tr>\n",
              "      <th>4</th>\n",
              "      <td>4</td>\n",
              "      <td>Much like the regular bottling from 2012, this...</td>\n",
              "      <td>Vintner's Reserve Wild Child Block</td>\n",
              "      <td>87</td>\n",
              "      <td>65.0</td>\n",
              "      <td>Oregon</td>\n",
              "      <td>Willamette Valley</td>\n",
              "      <td>Willamette Valley</td>\n",
              "      <td>Paul Gregutt</td>\n",
              "      <td>@paulgwine</td>\n",
              "      <td>Sweet Cheeks 2012 Vintner's Reserve Wild Child...</td>\n",
              "      <td>Pinot Noir</td>\n",
              "      <td>Sweet Cheeks</td>\n",
              "    </tr>\n",
              "    <tr>\n",
              "      <th>10</th>\n",
              "      <td>10</td>\n",
              "      <td>Soft, supple plum envelopes an oaky structure ...</td>\n",
              "      <td>Mountain Cuvée</td>\n",
              "      <td>87</td>\n",
              "      <td>19.0</td>\n",
              "      <td>California</td>\n",
              "      <td>Napa Valley</td>\n",
              "      <td>Napa</td>\n",
              "      <td>Virginie Boone</td>\n",
              "      <td>@vboone</td>\n",
              "      <td>Kirkland Signature 2011 Mountain Cuvée Caberne...</td>\n",
              "      <td>Cabernet Sauvignon</td>\n",
              "      <td>Kirkland Signature</td>\n",
              "    </tr>\n",
              "    <tr>\n",
              "      <th>12</th>\n",
              "      <td>12</td>\n",
              "      <td>Slightly reduced, this wine offers a chalky, t...</td>\n",
              "      <td>NaN</td>\n",
              "      <td>87</td>\n",
              "      <td>34.0</td>\n",
              "      <td>California</td>\n",
              "      <td>Alexander Valley</td>\n",
              "      <td>Sonoma</td>\n",
              "      <td>Virginie Boone</td>\n",
              "      <td>@vboone</td>\n",
              "      <td>Louis M. Martini 2012 Cabernet Sauvignon (Alex...</td>\n",
              "      <td>Cabernet Sauvignon</td>\n",
              "      <td>Louis M. Martini</td>\n",
              "    </tr>\n",
              "  </tbody>\n",
              "</table>\n",
              "</div>\n",
              "      <button class=\"colab-df-convert\" onclick=\"convertToInteractive('df-06d1bfc6-ccbe-4247-8ace-0743ea9b6d75')\"\n",
              "              title=\"Convert this dataframe to an interactive table.\"\n",
              "              style=\"display:none;\">\n",
              "        \n",
              "  <svg xmlns=\"http://www.w3.org/2000/svg\" height=\"24px\"viewBox=\"0 0 24 24\"\n",
              "       width=\"24px\">\n",
              "    <path d=\"M0 0h24v24H0V0z\" fill=\"none\"/>\n",
              "    <path d=\"M18.56 5.44l.94 2.06.94-2.06 2.06-.94-2.06-.94-.94-2.06-.94 2.06-2.06.94zm-11 1L8.5 8.5l.94-2.06 2.06-.94-2.06-.94L8.5 2.5l-.94 2.06-2.06.94zm10 10l.94 2.06.94-2.06 2.06-.94-2.06-.94-.94-2.06-.94 2.06-2.06.94z\"/><path d=\"M17.41 7.96l-1.37-1.37c-.4-.4-.92-.59-1.43-.59-.52 0-1.04.2-1.43.59L10.3 9.45l-7.72 7.72c-.78.78-.78 2.05 0 2.83L4 21.41c.39.39.9.59 1.41.59.51 0 1.02-.2 1.41-.59l7.78-7.78 2.81-2.81c.8-.78.8-2.07 0-2.86zM5.41 20L4 18.59l7.72-7.72 1.47 1.35L5.41 20z\"/>\n",
              "  </svg>\n",
              "      </button>\n",
              "      \n",
              "  <style>\n",
              "    .colab-df-container {\n",
              "      display:flex;\n",
              "      flex-wrap:wrap;\n",
              "      gap: 12px;\n",
              "    }\n",
              "\n",
              "    .colab-df-convert {\n",
              "      background-color: #E8F0FE;\n",
              "      border: none;\n",
              "      border-radius: 50%;\n",
              "      cursor: pointer;\n",
              "      display: none;\n",
              "      fill: #1967D2;\n",
              "      height: 32px;\n",
              "      padding: 0 0 0 0;\n",
              "      width: 32px;\n",
              "    }\n",
              "\n",
              "    .colab-df-convert:hover {\n",
              "      background-color: #E2EBFA;\n",
              "      box-shadow: 0px 1px 2px rgba(60, 64, 67, 0.3), 0px 1px 3px 1px rgba(60, 64, 67, 0.15);\n",
              "      fill: #174EA6;\n",
              "    }\n",
              "\n",
              "    [theme=dark] .colab-df-convert {\n",
              "      background-color: #3B4455;\n",
              "      fill: #D2E3FC;\n",
              "    }\n",
              "\n",
              "    [theme=dark] .colab-df-convert:hover {\n",
              "      background-color: #434B5C;\n",
              "      box-shadow: 0px 1px 3px 1px rgba(0, 0, 0, 0.15);\n",
              "      filter: drop-shadow(0px 1px 2px rgba(0, 0, 0, 0.3));\n",
              "      fill: #FFFFFF;\n",
              "    }\n",
              "  </style>\n",
              "\n",
              "      <script>\n",
              "        const buttonEl =\n",
              "          document.querySelector('#df-06d1bfc6-ccbe-4247-8ace-0743ea9b6d75 button.colab-df-convert');\n",
              "        buttonEl.style.display =\n",
              "          google.colab.kernel.accessAllowed ? 'block' : 'none';\n",
              "\n",
              "        async function convertToInteractive(key) {\n",
              "          const element = document.querySelector('#df-06d1bfc6-ccbe-4247-8ace-0743ea9b6d75');\n",
              "          const dataTable =\n",
              "            await google.colab.kernel.invokeFunction('convertToInteractive',\n",
              "                                                     [key], {});\n",
              "          if (!dataTable) return;\n",
              "\n",
              "          const docLinkHtml = 'Like what you see? Visit the ' +\n",
              "            '<a target=\"_blank\" href=https://colab.research.google.com/notebooks/data_table.ipynb>data table notebook</a>'\n",
              "            + ' to learn more about interactive tables.';\n",
              "          element.innerHTML = '';\n",
              "          dataTable['output_type'] = 'display_data';\n",
              "          await google.colab.output.renderOutput(dataTable, element);\n",
              "          const docLink = document.createElement('div');\n",
              "          docLink.innerHTML = docLinkHtml;\n",
              "          element.appendChild(docLink);\n",
              "        }\n",
              "      </script>\n",
              "    </div>\n",
              "  </div>\n",
              "  "
            ]
          },
          "metadata": {},
          "execution_count": 6
        }
      ],
      "source": [
        "wine_us.head()"
      ]
    },
    {
      "cell_type": "code",
      "execution_count": 7,
      "metadata": {
        "colab": {
          "base_uri": "https://localhost:8080/",
          "height": 302
        },
        "id": "6EWDc1vbrcyY",
        "outputId": "1f402a81-6919-4631-adb6-8d55ee649c94"
      },
      "outputs": [
        {
          "output_type": "display_data",
          "data": {
            "text/plain": [
              "<Figure size 432x288 with 1 Axes>"
            ],
            "image/png": "[encoded data removed]"
          },
          "metadata": {
            "needs_background": "light"
          }
        }
      ],
      "source": [
        "plt.title('Número de Reviews Produzidos por Autor',fontsize=14)\n",
        "sns.histplot(y='taster_name',data=wine_us)\n",
        "plt.xlabel('Quantidade')\n",
        "plt.ylabel('Nome');"
      ]
    },
    {
      "cell_type": "markdown",
      "metadata": {
        "id": "Y2JI6lAYtDxk"
      },
      "source": [
        "O autores com mais reviews neste dataset dos Estados Unidos são Paul Gregutt e Virginie Boone."
      ]
    },
    {
      "cell_type": "code",
      "execution_count": 8,
      "metadata": {
        "colab": {
          "base_uri": "https://localhost:8080/"
        },
        "id": "B2sZqrXvzPWH",
        "outputId": "6a049f36-2385-4a63-d677-ca20a4c74907"
      },
      "outputs": [
        {
          "output_type": "execute_result",
          "data": {
            "text/plain": [
              "Unnamed: 0    65633.547866\n",
              "points           89.213379\n",
              "price            46.621963\n",
              "Name: Virginie Boone, dtype: float64"
            ]
          },
          "metadata": {},
          "execution_count": 8
        }
      ],
      "source": [
        "wine_us.groupby('taster_name').mean().iloc[-1,:]"
      ]
    },
    {
      "cell_type": "markdown",
      "metadata": {
        "id": "8w8_1srpzt_7"
      },
      "source": [
        "O valor médio da autora que fez mais reviews tem um valor médio nos pontos em tornos de 89,21 pontos e e o preço do vinho está em torno de 46,62."
      ]
    },
    {
      "cell_type": "code",
      "execution_count": 9,
      "metadata": {
        "colab": {
          "base_uri": "https://localhost:8080/",
          "height": 373
        },
        "id": "Gllhb1tUvHfC",
        "outputId": "2cc7f227-11da-49a5-86df-56f4d50f9f4f"
      },
      "outputs": [
        {
          "output_type": "execute_result",
          "data": {
            "text/plain": [
              "Text(0.5, 0, 'Quantidade')"
            ]
          },
          "metadata": {},
          "execution_count": 9
        },
        {
          "output_type": "display_data",
          "data": {
            "text/plain": [
              "<Figure size 720x360 with 1 Axes>"
            ],
            "image/png": "[encoded data removed]"
          },
          "metadata": {
            "needs_background": "light"
          }
        }
      ],
      "source": [
        "plt.figure(figsize=(10,5))\n",
        "plt.title('Estados dos Estados Unidos onde os Vinhos são Produzidos',fontsize=14)\n",
        "sns.histplot(y='province',data=wine_us)\n",
        "plt.ylabel('Estados')\n",
        "plt.xlabel('Quantidade')"
      ]
    },
    {
      "cell_type": "markdown",
      "metadata": {
        "id": "6yxxMz2nw2EQ"
      },
      "source": [
        "Os Estados onde tem mais vinhos sendo produzidos é a California, em torno de 35 mil, valor discrepante, com parado a utros Estados como Oregon, que está em torno de 5 mil e Washington próximo a 10 mil."
      ]
    },
    {
      "cell_type": "code",
      "execution_count": 10,
      "metadata": {
        "colab": {
          "base_uri": "https://localhost:8080/"
        },
        "id": "ubwMGkJDGVX-",
        "outputId": "da8d0a44-ae7c-492b-937d-f153157c558b"
      },
      "outputs": [
        {
          "output_type": "execute_result",
          "data": {
            "text/plain": [
              "region_1     278\n",
              "region_2    3993\n",
              "dtype: int64"
            ]
          },
          "metadata": {},
          "execution_count": 10
        }
      ],
      "source": [
        "wine_us.isna().sum()[6:8]"
      ]
    },
    {
      "cell_type": "markdown",
      "metadata": {
        "id": "BgytLAknF7ga"
      },
      "source": [
        "Agora iremos verificar os Estado com as maiores pontuações, não será possivel as regiões pois as mesma tem muito valores vazios, como pode ser visto acima em que a região 1 temos 278 valores vazios e o 2 3993."
      ]
    },
    {
      "cell_type": "code",
      "execution_count": 11,
      "metadata": {
        "colab": {
          "base_uri": "https://localhost:8080/",
          "height": 927
        },
        "id": "01CsXockGnbq",
        "outputId": "e8b97d38-b098-49ae-a784-9efaa82ce2c5"
      },
      "outputs": [
        {
          "output_type": "execute_result",
          "data": {
            "text/plain": [
              "                      Unnamed: 0     points      price\n",
              "province                                              \n",
              "America             64049.315789  86.505263  19.894737\n",
              "Arizona             65322.024390  84.926829  29.200000\n",
              "California          65449.398047  88.627776  39.041048\n",
              "Colorado            64514.955882  86.117647  32.985294\n",
              "Connecticut         66162.333333  84.000000  15.333333\n",
              "Hawaii             108866.000000  87.000000  28.000000\n",
              "Idaho               67639.265625  86.598958  20.768421\n",
              "Illinois            58834.666667  84.500000  32.333333\n",
              "Iowa                51110.500000  83.000000  15.500000\n",
              "Kentucky            28589.000000  83.000000  35.000000\n",
              "Massachusetts       80645.571429  84.857143  21.285714\n",
              "Michigan            63209.271930  86.105263  32.432432\n",
              "Missouri            76959.878788  83.333333  17.333333\n",
              "Nevada              37996.000000  84.250000  37.750000\n",
              "New Jersey          43052.375000  84.000000  25.500000\n",
              "New Mexico          58539.533333  83.955556  22.422222\n",
              "New York            65823.340030  87.178571  22.826233\n",
              "North Carolina      56224.391304  84.565217  21.000000\n",
              "Ohio                65427.166667  84.083333  13.750000\n",
              "Oregon              64662.427880  89.051926  36.545064\n",
              "Pennsylvania        54996.500000  84.555556  23.333333\n",
              "Rhode Island        53503.000000  90.000000  25.000000\n",
              "Texas               63216.106383  85.212766  25.602151\n",
              "Vermont             76157.666667  84.333333  31.666667\n",
              "Virginia            68587.801802  85.611326  27.012987\n",
              "Washington          65744.113208  88.947216  32.436444\n",
              "Washington-Oregon   75776.285714  88.428571  17.857143"
            ],
            "text/html": [
              "\n",
              "  <div id=\"df-cca75dd4-852f-4391-bed8-ea3c0ea91696\">\n",
              "    <div class=\"colab-df-container\">\n",
              "      <div>\n",
              "<style scoped>\n",
              "    .dataframe tbody tr th:only-of-type {\n",
              "        vertical-align: middle;\n",
              "    }\n",
              "\n",
              "    .dataframe tbody tr th {\n",
              "        vertical-align: top;\n",
              "    }\n",
              "\n",
              "    .dataframe thead th {\n",
              "        text-align: right;\n",
              "    }\n",
              "</style>\n",
              "<table border=\"1\" class=\"dataframe\">\n",
              "  <thead>\n",
              "    <tr style=\"text-align: right;\">\n",
              "      <th></th>\n",
              "      <th>Unnamed: 0</th>\n",
              "      <th>points</th>\n",
              "      <th>price</th>\n",
              "    </tr>\n",
              "    <tr>\n",
              "      <th>province</th>\n",
              "      <th></th>\n",
              "      <th></th>\n",
              "      <th></th>\n",
              "    </tr>\n",
              "  </thead>\n",
              "  <tbody>\n",
              "    <tr>\n",
              "      <th>America</th>\n",
              "      <td>64049.315789</td>\n",
              "      <td>86.505263</td>\n",
              "      <td>19.894737</td>\n",
              "    </tr>\n",
              "    <tr>\n",
              "      <th>Arizona</th>\n",
              "      <td>65322.024390</td>\n",
              "      <td>84.926829</td>\n",
              "      <td>29.200000</td>\n",
              "    </tr>\n",
              "    <tr>\n",
              "      <th>California</th>\n",
              "      <td>65449.398047</td>\n",
              "      <td>88.627776</td>\n",
              "      <td>39.041048</td>\n",
              "    </tr>\n",
              "    <tr>\n",
              "      <th>Colorado</th>\n",
              "      <td>64514.955882</td>\n",
              "      <td>86.117647</td>\n",
              "      <td>32.985294</td>\n",
              "    </tr>\n",
              "    <tr>\n",
              "      <th>Connecticut</th>\n",
              "      <td>66162.333333</td>\n",
              "      <td>84.000000</td>\n",
              "      <td>15.333333</td>\n",
              "    </tr>\n",
              "    <tr>\n",
              "      <th>Hawaii</th>\n",
              "      <td>108866.000000</td>\n",
              "      <td>87.000000</td>\n",
              "      <td>28.000000</td>\n",
              "    </tr>\n",
              "    <tr>\n",
              "      <th>Idaho</th>\n",
              "      <td>67639.265625</td>\n",
              "      <td>86.598958</td>\n",
              "      <td>20.768421</td>\n",
              "    </tr>\n",
              "    <tr>\n",
              "      <th>Illinois</th>\n",
              "      <td>58834.666667</td>\n",
              "      <td>84.500000</td>\n",
              "      <td>32.333333</td>\n",
              "    </tr>\n",
              "    <tr>\n",
              "      <th>Iowa</th>\n",
              "      <td>51110.500000</td>\n",
              "      <td>83.000000</td>\n",
              "      <td>15.500000</td>\n",
              "    </tr>\n",
              "    <tr>\n",
              "      <th>Kentucky</th>\n",
              "      <td>28589.000000</td>\n",
              "      <td>83.000000</td>\n",
              "      <td>35.000000</td>\n",
              "    </tr>\n",
              "    <tr>\n",
              "      <th>Massachusetts</th>\n",
              "      <td>80645.571429</td>\n",
              "      <td>84.857143</td>\n",
              "      <td>21.285714</td>\n",
              "    </tr>\n",
              "    <tr>\n",
              "      <th>Michigan</th>\n",
              "      <td>63209.271930</td>\n",
              "      <td>86.105263</td>\n",
              "      <td>32.432432</td>\n",
              "    </tr>\n",
              "    <tr>\n",
              "      <th>Missouri</th>\n",
              "      <td>76959.878788</td>\n",
              "      <td>83.333333</td>\n",
              "      <td>17.333333</td>\n",
              "    </tr>\n",
              "    <tr>\n",
              "      <th>Nevada</th>\n",
              "      <td>37996.000000</td>\n",
              "      <td>84.250000</td>\n",
              "      <td>37.750000</td>\n",
              "    </tr>\n",
              "    <tr>\n",
              "      <th>New Jersey</th>\n",
              "      <td>43052.375000</td>\n",
              "      <td>84.000000</td>\n",
              "      <td>25.500000</td>\n",
              "    </tr>\n",
              "    <tr>\n",
              "      <th>New Mexico</th>\n",
              "      <td>58539.533333</td>\n",
              "      <td>83.955556</td>\n",
              "      <td>22.422222</td>\n",
              "    </tr>\n",
              "    <tr>\n",
              "      <th>New York</th>\n",
              "      <td>65823.340030</td>\n",
              "      <td>87.178571</td>\n",
              "      <td>22.826233</td>\n",
              "    </tr>\n",
              "    <tr>\n",
              "      <th>North Carolina</th>\n",
              "      <td>56224.391304</td>\n",
              "      <td>84.565217</td>\n",
              "      <td>21.000000</td>\n",
              "    </tr>\n",
              "    <tr>\n",
              "      <th>Ohio</th>\n",
              "      <td>65427.166667</td>\n",
              "      <td>84.083333</td>\n",
              "      <td>13.750000</td>\n",
              "    </tr>\n",
              "    <tr>\n",
              "      <th>Oregon</th>\n",
              "      <td>64662.427880</td>\n",
              "      <td>89.051926</td>\n",
              "      <td>36.545064</td>\n",
              "    </tr>\n",
              "    <tr>\n",
              "      <th>Pennsylvania</th>\n",
              "      <td>54996.500000</td>\n",
              "      <td>84.555556</td>\n",
              "      <td>23.333333</td>\n",
              "    </tr>\n",
              "    <tr>\n",
              "      <th>Rhode Island</th>\n",
              "      <td>53503.000000</td>\n",
              "      <td>90.000000</td>\n",
              "      <td>25.000000</td>\n",
              "    </tr>\n",
              "    <tr>\n",
              "      <th>Texas</th>\n",
              "      <td>63216.106383</td>\n",
              "      <td>85.212766</td>\n",
              "      <td>25.602151</td>\n",
              "    </tr>\n",
              "    <tr>\n",
              "      <th>Vermont</th>\n",
              "      <td>76157.666667</td>\n",
              "      <td>84.333333</td>\n",
              "      <td>31.666667</td>\n",
              "    </tr>\n",
              "    <tr>\n",
              "      <th>Virginia</th>\n",
              "      <td>68587.801802</td>\n",
              "      <td>85.611326</td>\n",
              "      <td>27.012987</td>\n",
              "    </tr>\n",
              "    <tr>\n",
              "      <th>Washington</th>\n",
              "      <td>65744.113208</td>\n",
              "      <td>88.947216</td>\n",
              "      <td>32.436444</td>\n",
              "    </tr>\n",
              "    <tr>\n",
              "      <th>Washington-Oregon</th>\n",
              "      <td>75776.285714</td>\n",
              "      <td>88.428571</td>\n",
              "      <td>17.857143</td>\n",
              "    </tr>\n",
              "  </tbody>\n",
              "</table>\n",
              "</div>\n",
              "      <button class=\"colab-df-convert\" onclick=\"convertToInteractive('df-cca75dd4-852f-4391-bed8-ea3c0ea91696')\"\n",
              "              title=\"Convert this dataframe to an interactive table.\"\n",
              "              style=\"display:none;\">\n",
              "        \n",
              "  <svg xmlns=\"http://www.w3.org/2000/svg\" height=\"24px\"viewBox=\"0 0 24 24\"\n",
              "       width=\"24px\">\n",
              "    <path d=\"M0 0h24v24H0V0z\" fill=\"none\"/>\n",
              "    <path d=\"M18.56 5.44l.94 2.06.94-2.06 2.06-.94-2.06-.94-.94-2.06-.94 2.06-2.06.94zm-11 1L8.5 8.5l.94-2.06 2.06-.94-2.06-.94L8.5 2.5l-.94 2.06-2.06.94zm10 10l.94 2.06.94-2.06 2.06-.94-2.06-.94-.94-2.06-.94 2.06-2.06.94z\"/><path d=\"M17.41 7.96l-1.37-1.37c-.4-.4-.92-.59-1.43-.59-.52 0-1.04.2-1.43.59L10.3 9.45l-7.72 7.72c-.78.78-.78 2.05 0 2.83L4 21.41c.39.39.9.59 1.41.59.51 0 1.02-.2 1.41-.59l7.78-7.78 2.81-2.81c.8-.78.8-2.07 0-2.86zM5.41 20L4 18.59l7.72-7.72 1.47 1.35L5.41 20z\"/>\n",
              "  </svg>\n",
              "      </button>\n",
              "      \n",
              "  <style>\n",
              "    .colab-df-container {\n",
              "      display:flex;\n",
              "      flex-wrap:wrap;\n",
              "      gap: 12px;\n",
              "    }\n",
              "\n",
              "    .colab-df-convert {\n",
              "      background-color: #E8F0FE;\n",
              "      border: none;\n",
              "      border-radius: 50%;\n",
              "      cursor: pointer;\n",
              "      display: none;\n",
              "      fill: #1967D2;\n",
              "      height: 32px;\n",
              "      padding: 0 0 0 0;\n",
              "      width: 32px;\n",
              "    }\n",
              "\n",
              "    .colab-df-convert:hover {\n",
              "      background-color: #E2EBFA;\n",
              "      box-shadow: 0px 1px 2px rgba(60, 64, 67, 0.3), 0px 1px 3px 1px rgba(60, 64, 67, 0.15);\n",
              "      fill: #174EA6;\n",
              "    }\n",
              "\n",
              "    [theme=dark] .colab-df-convert {\n",
              "      background-color: #3B4455;\n",
              "      fill: #D2E3FC;\n",
              "    }\n",
              "\n",
              "    [theme=dark] .colab-df-convert:hover {\n",
              "      background-color: #434B5C;\n",
              "      box-shadow: 0px 1px 3px 1px rgba(0, 0, 0, 0.15);\n",
              "      filter: drop-shadow(0px 1px 2px rgba(0, 0, 0, 0.3));\n",
              "      fill: #FFFFFF;\n",
              "    }\n",
              "  </style>\n",
              "\n",
              "      <script>\n",
              "        const buttonEl =\n",
              "          document.querySelector('#df-cca75dd4-852f-4391-bed8-ea3c0ea91696 button.colab-df-convert');\n",
              "        buttonEl.style.display =\n",
              "          google.colab.kernel.accessAllowed ? 'block' : 'none';\n",
              "\n",
              "        async function convertToInteractive(key) {\n",
              "          const element = document.querySelector('#df-cca75dd4-852f-4391-bed8-ea3c0ea91696');\n",
              "          const dataTable =\n",
              "            await google.colab.kernel.invokeFunction('convertToInteractive',\n",
              "                                                     [key], {});\n",
              "          if (!dataTable) return;\n",
              "\n",
              "          const docLinkHtml = 'Like what you see? Visit the ' +\n",
              "            '<a target=\"_blank\" href=https://colab.research.google.com/notebooks/data_table.ipynb>data table notebook</a>'\n",
              "            + ' to learn more about interactive tables.';\n",
              "          element.innerHTML = '';\n",
              "          dataTable['output_type'] = 'display_data';\n",
              "          await google.colab.output.renderOutput(dataTable, element);\n",
              "          const docLink = document.createElement('div');\n",
              "          docLink.innerHTML = docLinkHtml;\n",
              "          element.appendChild(docLink);\n",
              "        }\n",
              "      </script>\n",
              "    </div>\n",
              "  </div>\n",
              "  "
            ]
          },
          "metadata": {},
          "execution_count": 11
        }
      ],
      "source": [
        "wine_us.groupby('province').mean()"
      ]
    },
    {
      "cell_type": "markdown",
      "metadata": {
        "id": "WBPHvymcHDNm"
      },
      "source": [
        "Podemos ver pelo dataframe acima que o Estado com maior pontos é Rhode Island com 90 pontos e o mais barato no preço é Ohio com 13,75."
      ]
    },
    {
      "cell_type": "code",
      "execution_count": 12,
      "metadata": {
        "colab": {
          "base_uri": "https://localhost:8080/",
          "height": 319
        },
        "id": "Qe64_fpAtmZ5",
        "outputId": "626f3b21-8975-497c-e591-7fa5f66430cb"
      },
      "outputs": [
        {
          "output_type": "execute_result",
          "data": {
            "text/plain": [
              "Text(0, 0.5, 'Frequência')"
            ]
          },
          "metadata": {},
          "execution_count": 12
        },
        {
          "output_type": "display_data",
          "data": {
            "text/plain": [
              "<Figure size 432x288 with 1 Axes>"
            ],
            "image/png": "[encoded data removed]"
          },
          "metadata": {
            "needs_background": "light"
          }
        }
      ],
      "source": [
        "plt.title('Frequência dos Pontos dos Vinhos',fontsize=14)\n",
        "sns.histplot(x='points',data=wine_us,kde=True)\n",
        "plt.xlabel('Pontos')\n",
        "plt.ylabel('Frequência')\n"
      ]
    },
    {
      "cell_type": "markdown",
      "metadata": {
        "id": "-JspgqeRwbZt"
      },
      "source": [
        "Os pontos estão mais concentrados em torno de 87,5 pontos e 90 pontos."
      ]
    },
    {
      "cell_type": "code",
      "execution_count": 13,
      "metadata": {
        "colab": {
          "base_uri": "https://localhost:8080/",
          "height": 373
        },
        "id": "nhKyTmwr2dsh",
        "outputId": "7bd33e19-45b3-402b-9ead-ee8ff62de42b"
      },
      "outputs": [
        {
          "output_type": "execute_result",
          "data": {
            "text/plain": [
              "Text(0.5, 0, 'Preço')"
            ]
          },
          "metadata": {},
          "execution_count": 13
        },
        {
          "output_type": "display_data",
          "data": {
            "text/plain": [
              "<Figure size 720x360 with 1 Axes>"
            ],
            "image/png": "[encoded data removed]"
          },
          "metadata": {
            "needs_background": "light"
          }
        }
      ],
      "source": [
        "plt.figure(figsize=(10,5))\n",
        "desvio_preço = round(np.std(wine_us['price']),2)\n",
        "plt.title(f'Distribuição dos Preços do Vinhos, com Desvio Padrão de {desvio_preço}',\n",
        "          fontsize=14)\n",
        "sns.boxplot(x='price',data=wine_us)\n",
        "plt.xlabel('Preço')"
      ]
    },
    {
      "cell_type": "markdown",
      "metadata": {
        "id": "yHMzjfDg1pps"
      },
      "source": [
        "Pela questão dos preços,temos valores muitos discrepantes, como pode mostrar o desvio padrão no titulo.Neste sentido irá ser excluido o valores acima de 400 porque dificilmente alguém ira compra um vinho tão mais caro do que comprou, e esses preços presentes não se tem produto próximo que tenham esse valor"
      ]
    },
    {
      "cell_type": "code",
      "execution_count": 14,
      "metadata": {
        "colab": {
          "base_uri": "https://localhost:8080/"
        },
        "id": "fQxQu20qDRiy",
        "outputId": "535c72a5-0645-4ffb-8d53-c8725f6ca374"
      },
      "outputs": [
        {
          "output_type": "stream",
          "name": "stdout",
          "text": [
            "24.57\n"
          ]
        }
      ],
      "source": [
        "wineme = wine_us[wine_us['price']<401]\n",
        "desme = round(np.std(wineme['price']),2)\n",
        "print(desme)"
      ]
    },
    {
      "cell_type": "code",
      "execution_count": 15,
      "metadata": {
        "colab": {
          "base_uri": "https://localhost:8080/",
          "height": 373
        },
        "id": "pWy4hXd5EQEx",
        "outputId": "f10bde2e-d944-4f03-c810-3c967fc9a866"
      },
      "outputs": [
        {
          "output_type": "execute_result",
          "data": {
            "text/plain": [
              "Text(0.5, 0, 'Preço')"
            ]
          },
          "metadata": {},
          "execution_count": 15
        },
        {
          "output_type": "display_data",
          "data": {
            "text/plain": [
              "<Figure size 720x360 with 1 Axes>"
            ],
            "image/png": "[encoded data removed]"
          },
          "metadata": {
            "needs_background": "light"
          }
        }
      ],
      "source": [
        "plt.figure(figsize=(10,5))\n",
        "\n",
        "plt.title(f'Distribuição dos Preços do Vinhos, com Desvio Padrão de {desme}',\n",
        "          fontsize=14)\n",
        "sns.boxplot(x='price',data=wineme)\n",
        "plt.xlabel('Preço')"
      ]
    },
    {
      "cell_type": "code",
      "execution_count": 16,
      "metadata": {
        "colab": {
          "base_uri": "https://localhost:8080/"
        },
        "id": "Kx08wPDzyCtm",
        "outputId": "93220a21-c352-45b6-f09e-c2ee058989e3"
      },
      "outputs": [
        {
          "output_type": "execute_result",
          "data": {
            "text/plain": [
              "Unnamed: 0                                                           64590\n",
              "description              There's a lot going on in this Merlot, which i...\n",
              "designation                                                            NaN\n",
              "points                                                                  86\n",
              "price                                                                  4.0\n",
              "province                                                        California\n",
              "region_1                                                        California\n",
              "region_2                                                  California Other\n",
              "taster_name                                                            NaN\n",
              "taster_twitter_handle                                                  NaN\n",
              "title                                        Bandit NV Merlot (California)\n",
              "variety                                                             Merlot\n",
              "winery                                                              Bandit\n",
              "Name: 64590, dtype: object"
            ]
          },
          "metadata": {},
          "execution_count": 16
        }
      ],
      "source": [
        "wine_us.sort_values(by='price').iloc[0,:]"
      ]
    },
    {
      "cell_type": "markdown",
      "metadata": {
        "id": "pPH09XumzEA6"
      },
      "source": [
        "Esse é o vinho mais barato "
      ]
    },
    {
      "cell_type": "code",
      "execution_count": 17,
      "metadata": {
        "colab": {
          "base_uri": "https://localhost:8080/"
        },
        "id": "KhyPrBnC0Hfk",
        "outputId": "9115ae0a-255c-4822-e321-25db62239b69"
      },
      "outputs": [
        {
          "output_type": "execute_result",
          "data": {
            "text/plain": [
              "Unnamed: 0                                                          120391\n",
              "description              The nose on this single-vineyard wine from a s...\n",
              "designation                                            Roger Rose Vineyard\n",
              "points                                                                  91\n",
              "price                                                               2013.0\n",
              "province                                                        California\n",
              "region_1                                                       Arroyo Seco\n",
              "region_2                                                     Central Coast\n",
              "taster_name                                                  Matt Kettmann\n",
              "taster_twitter_handle                                        @mattkettmann\n",
              "title                    Blair 2013 Roger Rose Vineyard Chardonnay (Arr...\n",
              "variety                                                         Chardonnay\n",
              "winery                                                               Blair\n",
              "Name: 120391, dtype: object"
            ]
          },
          "metadata": {},
          "execution_count": 17
        }
      ],
      "source": [
        "wine_us.sort_values(by='price',ascending=False).iloc[0,:]"
      ]
    },
    {
      "cell_type": "markdown",
      "metadata": {
        "id": "CsdWAZqm0PEO"
      },
      "source": [
        "Esse vinho mais caro"
      ]
    },
    {
      "cell_type": "code",
      "execution_count": 18,
      "metadata": {
        "colab": {
          "base_uri": "https://localhost:8080/",
          "height": 424
        },
        "id": "domt9LxG5ZbU",
        "outputId": "7e195285-7dbd-49fa-e8cd-dc9c2886459b"
      },
      "outputs": [
        {
          "output_type": "execute_result",
          "data": {
            "text/plain": [
              "                       variety  points  price\n",
              "213         Syrah-Petit Verdot    94.0   49.0\n",
              "122             Moscato Giallo    94.0   16.0\n",
              "172        Riesling-Chardonnay    94.0   40.0\n",
              "232     Touriga Nacional Blend    93.0   16.0\n",
              "219               Tannat-Syrah    93.0   40.0\n",
              "..                         ...     ...    ...\n",
              "115       Merlot-Petite Verdot    83.0   20.0\n",
              "48                   Chardonel    83.0   11.0\n",
              "34   Cabernet Sauvignon-Shiraz    83.0    9.0\n",
              "165                   Prosecco    82.0   28.0\n",
              "46                  Chancellor    80.5   16.0\n",
              "\n",
              "[257 rows x 3 columns]"
            ],
            "text/html": [
              "\n",
              "  <div id=\"df-d70caabd-bb20-4752-a31e-718ffd5924ae\">\n",
              "    <div class=\"colab-df-container\">\n",
              "      <div>\n",
              "<style scoped>\n",
              "    .dataframe tbody tr th:only-of-type {\n",
              "        vertical-align: middle;\n",
              "    }\n",
              "\n",
              "    .dataframe tbody tr th {\n",
              "        vertical-align: top;\n",
              "    }\n",
              "\n",
              "    .dataframe thead th {\n",
              "        text-align: right;\n",
              "    }\n",
              "</style>\n",
              "<table border=\"1\" class=\"dataframe\">\n",
              "  <thead>\n",
              "    <tr style=\"text-align: right;\">\n",
              "      <th></th>\n",
              "      <th>variety</th>\n",
              "      <th>points</th>\n",
              "      <th>price</th>\n",
              "    </tr>\n",
              "  </thead>\n",
              "  <tbody>\n",
              "    <tr>\n",
              "      <th>213</th>\n",
              "      <td>Syrah-Petit Verdot</td>\n",
              "      <td>94.0</td>\n",
              "      <td>49.0</td>\n",
              "    </tr>\n",
              "    <tr>\n",
              "      <th>122</th>\n",
              "      <td>Moscato Giallo</td>\n",
              "      <td>94.0</td>\n",
              "      <td>16.0</td>\n",
              "    </tr>\n",
              "    <tr>\n",
              "      <th>172</th>\n",
              "      <td>Riesling-Chardonnay</td>\n",
              "      <td>94.0</td>\n",
              "      <td>40.0</td>\n",
              "    </tr>\n",
              "    <tr>\n",
              "      <th>232</th>\n",
              "      <td>Touriga Nacional Blend</td>\n",
              "      <td>93.0</td>\n",
              "      <td>16.0</td>\n",
              "    </tr>\n",
              "    <tr>\n",
              "      <th>219</th>\n",
              "      <td>Tannat-Syrah</td>\n",
              "      <td>93.0</td>\n",
              "      <td>40.0</td>\n",
              "    </tr>\n",
              "    <tr>\n",
              "      <th>...</th>\n",
              "      <td>...</td>\n",
              "      <td>...</td>\n",
              "      <td>...</td>\n",
              "    </tr>\n",
              "    <tr>\n",
              "      <th>115</th>\n",
              "      <td>Merlot-Petite Verdot</td>\n",
              "      <td>83.0</td>\n",
              "      <td>20.0</td>\n",
              "    </tr>\n",
              "    <tr>\n",
              "      <th>48</th>\n",
              "      <td>Chardonel</td>\n",
              "      <td>83.0</td>\n",
              "      <td>11.0</td>\n",
              "    </tr>\n",
              "    <tr>\n",
              "      <th>34</th>\n",
              "      <td>Cabernet Sauvignon-Shiraz</td>\n",
              "      <td>83.0</td>\n",
              "      <td>9.0</td>\n",
              "    </tr>\n",
              "    <tr>\n",
              "      <th>165</th>\n",
              "      <td>Prosecco</td>\n",
              "      <td>82.0</td>\n",
              "      <td>28.0</td>\n",
              "    </tr>\n",
              "    <tr>\n",
              "      <th>46</th>\n",
              "      <td>Chancellor</td>\n",
              "      <td>80.5</td>\n",
              "      <td>16.0</td>\n",
              "    </tr>\n",
              "  </tbody>\n",
              "</table>\n",
              "<p>257 rows × 3 columns</p>\n",
              "</div>\n",
              "      <button class=\"colab-df-convert\" onclick=\"convertToInteractive('df-d70caabd-bb20-4752-a31e-718ffd5924ae')\"\n",
              "              title=\"Convert this dataframe to an interactive table.\"\n",
              "              style=\"display:none;\">\n",
              "        \n",
              "  <svg xmlns=\"http://www.w3.org/2000/svg\" height=\"24px\"viewBox=\"0 0 24 24\"\n",
              "       width=\"24px\">\n",
              "    <path d=\"M0 0h24v24H0V0z\" fill=\"none\"/>\n",
              "    <path d=\"M18.56 5.44l.94 2.06.94-2.06 2.06-.94-2.06-.94-.94-2.06-.94 2.06-2.06.94zm-11 1L8.5 8.5l.94-2.06 2.06-.94-2.06-.94L8.5 2.5l-.94 2.06-2.06.94zm10 10l.94 2.06.94-2.06 2.06-.94-2.06-.94-.94-2.06-.94 2.06-2.06.94z\"/><path d=\"M17.41 7.96l-1.37-1.37c-.4-.4-.92-.59-1.43-.59-.52 0-1.04.2-1.43.59L10.3 9.45l-7.72 7.72c-.78.78-.78 2.05 0 2.83L4 21.41c.39.39.9.59 1.41.59.51 0 1.02-.2 1.41-.59l7.78-7.78 2.81-2.81c.8-.78.8-2.07 0-2.86zM5.41 20L4 18.59l7.72-7.72 1.47 1.35L5.41 20z\"/>\n",
              "  </svg>\n",
              "      </button>\n",
              "      \n",
              "  <style>\n",
              "    .colab-df-container {\n",
              "      display:flex;\n",
              "      flex-wrap:wrap;\n",
              "      gap: 12px;\n",
              "    }\n",
              "\n",
              "    .colab-df-convert {\n",
              "      background-color: #E8F0FE;\n",
              "      border: none;\n",
              "      border-radius: 50%;\n",
              "      cursor: pointer;\n",
              "      display: none;\n",
              "      fill: #1967D2;\n",
              "      height: 32px;\n",
              "      padding: 0 0 0 0;\n",
              "      width: 32px;\n",
              "    }\n",
              "\n",
              "    .colab-df-convert:hover {\n",
              "      background-color: #E2EBFA;\n",
              "      box-shadow: 0px 1px 2px rgba(60, 64, 67, 0.3), 0px 1px 3px 1px rgba(60, 64, 67, 0.15);\n",
              "      fill: #174EA6;\n",
              "    }\n",
              "\n",
              "    [theme=dark] .colab-df-convert {\n",
              "      background-color: #3B4455;\n",
              "      fill: #D2E3FC;\n",
              "    }\n",
              "\n",
              "    [theme=dark] .colab-df-convert:hover {\n",
              "      background-color: #434B5C;\n",
              "      box-shadow: 0px 1px 3px 1px rgba(0, 0, 0, 0.15);\n",
              "      filter: drop-shadow(0px 1px 2px rgba(0, 0, 0, 0.3));\n",
              "      fill: #FFFFFF;\n",
              "    }\n",
              "  </style>\n",
              "\n",
              "      <script>\n",
              "        const buttonEl =\n",
              "          document.querySelector('#df-d70caabd-bb20-4752-a31e-718ffd5924ae button.colab-df-convert');\n",
              "        buttonEl.style.display =\n",
              "          google.colab.kernel.accessAllowed ? 'block' : 'none';\n",
              "\n",
              "        async function convertToInteractive(key) {\n",
              "          const element = document.querySelector('#df-d70caabd-bb20-4752-a31e-718ffd5924ae');\n",
              "          const dataTable =\n",
              "            await google.colab.kernel.invokeFunction('convertToInteractive',\n",
              "                                                     [key], {});\n",
              "          if (!dataTable) return;\n",
              "\n",
              "          const docLinkHtml = 'Like what you see? Visit the ' +\n",
              "            '<a target=\"_blank\" href=https://colab.research.google.com/notebooks/data_table.ipynb>data table notebook</a>'\n",
              "            + ' to learn more about interactive tables.';\n",
              "          element.innerHTML = '';\n",
              "          dataTable['output_type'] = 'display_data';\n",
              "          await google.colab.output.renderOutput(dataTable, element);\n",
              "          const docLink = document.createElement('div');\n",
              "          docLink.innerHTML = docLinkHtml;\n",
              "          element.appendChild(docLink);\n",
              "        }\n",
              "      </script>\n",
              "    </div>\n",
              "  </div>\n",
              "  "
            ]
          },
          "metadata": {},
          "execution_count": 18
        }
      ],
      "source": [
        "uvas = wine_us.groupby('variety').mean()\n",
        "uvas.drop('Unnamed: 0',axis=1,inplace=True)\n",
        "uvas.reset_index(inplace=True)\n",
        "uvas.sort_values(by='points',ascending=False)"
      ]
    },
    {
      "cell_type": "code",
      "execution_count": 19,
      "metadata": {
        "colab": {
          "base_uri": "https://localhost:8080/",
          "height": 357
        },
        "id": "A9eGuok19GnM",
        "outputId": "5038249e-bcb9-43d4-ccaa-33ea3e6507f2"
      },
      "outputs": [
        {
          "output_type": "display_data",
          "data": {
            "text/plain": [
              "<Figure size 720x360 with 1 Axes>"
            ],
            "image/png": "[encoded data removed]"
          },
          "metadata": {
            "needs_background": "light"
          }
        }
      ],
      "source": [
        "plt.figure(figsize=(10,5))\n",
        "plt.title('Relação Entre os Preço Médio e Pontos Médios por Fruta',fontsize=14)\n",
        "sns.scatterplot(x='points',y='price',data=uvas)\n",
        "plt.xlabel('Média dos Pontos')\n",
        "plt.ylabel('Média do Preço');"
      ]
    },
    {
      "cell_type": "markdown",
      "metadata": {
        "id": "SuobxO1k8AVL"
      },
      "source": [
        "Quanto as frutas, as que tem o pontos médios mais altos são *Syrah-Petit Verdot, Moscato Giallo e Riesling-Chardonnay*, todos com ponto médio de 94 e os menor é o *Chancellor* com 80.5 pontos, interesante observar que o preço médio do *Syrah-Petit Verdot* é de 49 e do *Moscato Giallo* é de 16, mostrando que não necessariamente o vinhor com maior ponto, nãovai ter um preço médio bem alto. Isso pode ser melhor visto no gráfico de dispersão acima."
      ]
    },
    {
      "cell_type": "code",
      "execution_count": 20,
      "metadata": {
        "colab": {
          "base_uri": "https://localhost:8080/",
          "height": 373
        },
        "id": "y_KTLEBGGEKd",
        "outputId": "64678458-642e-45f2-9b9e-2f93a79a2d22"
      },
      "outputs": [
        {
          "output_type": "execute_result",
          "data": {
            "text/plain": [
              "Text(0, 0.5, 'Vinheteira')"
            ]
          },
          "metadata": {},
          "execution_count": 20
        },
        {
          "output_type": "display_data",
          "data": {
            "text/plain": [
              "<Figure size 720x360 with 1 Axes>"
            ],
            "image/png": "[encoded data removed]"
          },
          "metadata": {
            "needs_background": "light"
          }
        }
      ],
      "source": [
        "plt.figure(figsize=(10,5))\n",
        "plt.title('Os 10 Vinheteiras Mais Presente nas Reviews',fontsize=14)\n",
        "plt.barh(wine_us['winery'].value_counts().index[0:15],wine_us['winery'].value_counts()[0:15])\n",
        "plt.xlabel('Quantidade')\n",
        "plt.ylabel('Vinheteira')"
      ]
    },
    {
      "cell_type": "markdown",
      "metadata": {
        "id": "n_-KaDqaIM5h"
      },
      "source": [
        "## 2ª Questão\n",
        "\n",
        "(3 pontos) Sistema de recomendação: faça a construção de seu sistema de recomendação"
      ]
    },
    {
      "cell_type": "markdown",
      "metadata": {
        "id": "O8_Iny_LJFfL"
      },
      "source": [
        "### Fazendo o Pré-processamento"
      ]
    },
    {
      "cell_type": "code",
      "execution_count": 21,
      "metadata": {
        "colab": {
          "base_uri": "https://localhost:8080/"
        },
        "id": "5V2TCL0OJDgW",
        "outputId": "010c3355-5ed4-4758-d00a-94f1aa62fea7"
      },
      "outputs": [
        {
          "output_type": "execute_result",
          "data": {
            "text/plain": [
              "Unnamed: 0                   0\n",
              "description                  0\n",
              "designation              17596\n",
              "points                       0\n",
              "price                      239\n",
              "province                     0\n",
              "region_1                   278\n",
              "region_2                  3993\n",
              "taster_name              16774\n",
              "taster_twitter_handle    19763\n",
              "title                        0\n",
              "variety                      0\n",
              "winery                       0\n",
              "dtype: int64"
            ]
          },
          "metadata": {},
          "execution_count": 21
        }
      ],
      "source": [
        "# Verificando os dados faltantes\n",
        "wine_us.isna().sum()"
      ]
    },
    {
      "cell_type": "markdown",
      "metadata": {
        "id": "PZYI1r05J8hi"
      },
      "source": [
        "Como as colunas region_1,region_2, taster_name, taster_twitter_handle e designation tem muitos valores nulo, elas vão ser desconsideradas."
      ]
    },
    {
      "cell_type": "code",
      "execution_count": 22,
      "metadata": {
        "colab": {
          "base_uri": "https://localhost:8080/"
        },
        "id": "w7rKEhaBJ180",
        "outputId": "d018f6a7-f67c-405c-aec7-6b33bdca8546"
      },
      "outputs": [
        {
          "output_type": "stream",
          "name": "stderr",
          "text": [
            "/usr/local/lib/python3.7/dist-packages/pandas/core/frame.py:4913: SettingWithCopyWarning: \n",
            "A value is trying to be set on a copy of a slice from a DataFrame\n",
            "\n",
            "See the caveats in the documentation: https://pandas.pydata.org/pandas-docs/stable/user_guide/indexing.html#returning-a-view-versus-a-copy\n",
            "  errors=errors,\n"
          ]
        }
      ],
      "source": [
        "wine_us.drop(['designation','region_1','region_2','taster_name','taster_twitter_handle'],axis=1,\n",
        "             inplace=True)"
      ]
    },
    {
      "cell_type": "code",
      "execution_count": 23,
      "metadata": {
        "colab": {
          "base_uri": "https://localhost:8080/"
        },
        "id": "ODmd6nzuNtIB",
        "outputId": "87ec13ff-dd9c-4ab1-b287-4da11f0e9df0"
      },
      "outputs": [
        {
          "output_type": "execute_result",
          "data": {
            "text/plain": [
              "Index(['Unnamed: 0', 'description', 'points', 'price', 'province', 'title',\n",
              "       'variety', 'winery'],\n",
              "      dtype='object')"
            ]
          },
          "metadata": {},
          "execution_count": 23
        }
      ],
      "source": [
        "wine_us.columns"
      ]
    },
    {
      "cell_type": "markdown",
      "metadata": {
        "id": "vSYV0qVXLtR4"
      },
      "source": [
        "Sobre o valor do preço, ão ser apagdo porque temos poucos valores e como uma variavel importante, acredito que não seria interessante colocar um valor no lugar."
      ]
    },
    {
      "cell_type": "code",
      "execution_count": 24,
      "metadata": {
        "colab": {
          "base_uri": "https://localhost:8080/"
        },
        "id": "AYnT7aIJMUFJ",
        "outputId": "9aa7168e-7dca-41ce-df25-9c1ff327965f"
      },
      "outputs": [
        {
          "output_type": "stream",
          "name": "stderr",
          "text": [
            "/usr/local/lib/python3.7/dist-packages/pandas/util/_decorators.py:311: SettingWithCopyWarning: \n",
            "A value is trying to be set on a copy of a slice from a DataFrame\n",
            "\n",
            "See the caveats in the documentation: https://pandas.pydata.org/pandas-docs/stable/user_guide/indexing.html#returning-a-view-versus-a-copy\n",
            "  return func(*args, **kwargs)\n"
          ]
        }
      ],
      "source": [
        "wine_us.dropna(inplace=True)"
      ]
    },
    {
      "cell_type": "code",
      "execution_count": 25,
      "metadata": {
        "colab": {
          "base_uri": "https://localhost:8080/"
        },
        "id": "YydlHwWjPGcG",
        "outputId": "f524319b-2201-4303-d2ee-aeec3bb1d6e3"
      },
      "outputs": [
        {
          "output_type": "execute_result",
          "data": {
            "text/plain": [
              "Unnamed: 0     0\n",
              "description    0\n",
              "points         0\n",
              "price          0\n",
              "province       0\n",
              "title          0\n",
              "variety        0\n",
              "winery         0\n",
              "dtype: int64"
            ]
          },
          "metadata": {},
          "execution_count": 25
        }
      ],
      "source": [
        "wine_us.isna().sum()"
      ]
    },
    {
      "cell_type": "code",
      "execution_count": 26,
      "metadata": {
        "id": "-PpiduVCPq8G"
      },
      "outputs": [],
      "source": [
        "# Removendo os stop words das colunas descripion e title\n",
        "stop = stopwords.words('english')\n"
      ]
    },
    {
      "cell_type": "code",
      "execution_count": 27,
      "metadata": {
        "colab": {
          "base_uri": "https://localhost:8080/"
        },
        "id": "Eq3-qg5eVpCl",
        "outputId": "67c50b88-fd29-4209-ac8d-39f34daff6a6"
      },
      "outputs": [
        {
          "output_type": "stream",
          "name": "stderr",
          "text": [
            "/usr/local/lib/python3.7/dist-packages/ipykernel_launcher.py:1: SettingWithCopyWarning: \n",
            "A value is trying to be set on a copy of a slice from a DataFrame.\n",
            "Try using .loc[row_indexer,col_indexer] = value instead\n",
            "\n",
            "See the caveats in the documentation: https://pandas.pydata.org/pandas-docs/stable/user_guide/indexing.html#returning-a-view-versus-a-copy\n",
            "  \"\"\"Entry point for launching an IPython kernel.\n",
            "/usr/local/lib/python3.7/dist-packages/ipykernel_launcher.py:2: SettingWithCopyWarning: \n",
            "A value is trying to be set on a copy of a slice from a DataFrame.\n",
            "Try using .loc[row_indexer,col_indexer] = value instead\n",
            "\n",
            "See the caveats in the documentation: https://pandas.pydata.org/pandas-docs/stable/user_guide/indexing.html#returning-a-view-versus-a-copy\n",
            "  \n"
          ]
        }
      ],
      "source": [
        "wine_us['description'] = wine_us['description'].apply(lambda x: ' '.join([word for word in x.split() if word not in (stop)]))\n",
        "wine_us['title'] = wine_us['title'].apply(lambda x: ' '.join([word for word in x.split() if word not in (stop)]))"
      ]
    },
    {
      "cell_type": "code",
      "execution_count": 28,
      "metadata": {
        "id": "3vsRgakSWLNa"
      },
      "outputs": [],
      "source": [
        "# Aplicando lemantização\n",
        "def lema(coluna):\n",
        "  lema = []\n",
        "  wnl = WordNetLemmatizer()\n",
        "  lista = list(coluna)\n",
        "  for i in range(len(lista)):\n",
        "    lista_le = nltk.word_tokenize(lista[i])\n",
        "    junta = ' '.join([wnl.lemmatize(words) for words in lista_le])\n",
        "    lema.append(junta)\n",
        "  coluna = lema\n",
        "  return coluna\n"
      ]
    },
    {
      "cell_type": "code",
      "execution_count": 29,
      "metadata": {
        "colab": {
          "base_uri": "https://localhost:8080/"
        },
        "id": "SmRFs0DAW0M8",
        "outputId": "8e9cff97-1f77-4f66-c1de-be0a212e19f0"
      },
      "outputs": [
        {
          "output_type": "stream",
          "name": "stderr",
          "text": [
            "/usr/local/lib/python3.7/dist-packages/ipykernel_launcher.py:1: SettingWithCopyWarning: \n",
            "A value is trying to be set on a copy of a slice from a DataFrame.\n",
            "Try using .loc[row_indexer,col_indexer] = value instead\n",
            "\n",
            "See the caveats in the documentation: https://pandas.pydata.org/pandas-docs/stable/user_guide/indexing.html#returning-a-view-versus-a-copy\n",
            "  \"\"\"Entry point for launching an IPython kernel.\n",
            "/usr/local/lib/python3.7/dist-packages/ipykernel_launcher.py:2: SettingWithCopyWarning: \n",
            "A value is trying to be set on a copy of a slice from a DataFrame.\n",
            "Try using .loc[row_indexer,col_indexer] = value instead\n",
            "\n",
            "See the caveats in the documentation: https://pandas.pydata.org/pandas-docs/stable/user_guide/indexing.html#returning-a-view-versus-a-copy\n",
            "  \n"
          ]
        }
      ],
      "source": [
        "wine_us['description'] = lema(wine_us['description'])\n",
        "wine_us['title'] = lema(wine_us['title'])"
      ]
    },
    {
      "cell_type": "markdown",
      "metadata": {
        "id": "tWWTpLFQuRJs"
      },
      "source": [
        "Tratamento nas strings, deixando tudo minusculo."
      ]
    },
    {
      "cell_type": "code",
      "execution_count": 30,
      "metadata": {
        "colab": {
          "base_uri": "https://localhost:8080/"
        },
        "id": "uDN7j4JUZnVP",
        "outputId": "66149032-aae8-4b92-94af-f5e8b54ff67f"
      },
      "outputs": [
        {
          "output_type": "stream",
          "name": "stderr",
          "text": [
            "/usr/local/lib/python3.7/dist-packages/ipykernel_launcher.py:1: SettingWithCopyWarning: \n",
            "A value is trying to be set on a copy of a slice from a DataFrame.\n",
            "Try using .loc[row_indexer,col_indexer] = value instead\n",
            "\n",
            "See the caveats in the documentation: https://pandas.pydata.org/pandas-docs/stable/user_guide/indexing.html#returning-a-view-versus-a-copy\n",
            "  \"\"\"Entry point for launching an IPython kernel.\n",
            "/usr/local/lib/python3.7/dist-packages/ipykernel_launcher.py:2: SettingWithCopyWarning: \n",
            "A value is trying to be set on a copy of a slice from a DataFrame.\n",
            "Try using .loc[row_indexer,col_indexer] = value instead\n",
            "\n",
            "See the caveats in the documentation: https://pandas.pydata.org/pandas-docs/stable/user_guide/indexing.html#returning-a-view-versus-a-copy\n",
            "  \n"
          ]
        }
      ],
      "source": [
        "wine_us['description'] = wine_us['description'].str.lower()\n",
        "wine_us['title'] = wine_us['title'].str.lower()"
      ]
    },
    {
      "cell_type": "code",
      "execution_count": 31,
      "metadata": {
        "colab": {
          "base_uri": "https://localhost:8080/"
        },
        "id": "xZQP9_Drt7hs",
        "outputId": "e73d69fc-927c-41b1-cbf4-f735b4878e4b"
      },
      "outputs": [
        {
          "output_type": "stream",
          "name": "stderr",
          "text": [
            "/usr/local/lib/python3.7/dist-packages/ipykernel_launcher.py:1: SettingWithCopyWarning: \n",
            "A value is trying to be set on a copy of a slice from a DataFrame.\n",
            "Try using .loc[row_indexer,col_indexer] = value instead\n",
            "\n",
            "See the caveats in the documentation: https://pandas.pydata.org/pandas-docs/stable/user_guide/indexing.html#returning-a-view-versus-a-copy\n",
            "  \"\"\"Entry point for launching an IPython kernel.\n",
            "/usr/local/lib/python3.7/dist-packages/ipykernel_launcher.py:2: SettingWithCopyWarning: \n",
            "A value is trying to be set on a copy of a slice from a DataFrame.\n",
            "Try using .loc[row_indexer,col_indexer] = value instead\n",
            "\n",
            "See the caveats in the documentation: https://pandas.pydata.org/pandas-docs/stable/user_guide/indexing.html#returning-a-view-versus-a-copy\n",
            "  \n"
          ]
        }
      ],
      "source": [
        "wine_us['variety'] = wine_us['variety'].str.lower()\n",
        "wine_us['winery'] = wine_us['winery'].str.lower()"
      ]
    },
    {
      "cell_type": "code",
      "execution_count": 32,
      "metadata": {
        "colab": {
          "base_uri": "https://localhost:8080/",
          "height": 337
        },
        "id": "EmQAhJhmxJvX",
        "outputId": "806f36e5-b86a-4daf-ee4e-583801066ee5"
      },
      "outputs": [
        {
          "output_type": "execute_result",
          "data": {
            "text/plain": [
              "    Unnamed: 0                                        description  points  \\\n",
              "2            2  tart snappy , flavor lime flesh rind dominate ...      87   \n",
              "3            3  pineapple rind , lemon pith orange blossom sta...      87   \n",
              "4            4  much like regular bottling 2012 , come across ...      87   \n",
              "10          10  soft , supple plum envelope oaky structure cab...      87   \n",
              "12          12  slightly reduced , wine offer chalky , tannic ...      87   \n",
              "\n",
              "    price    province                                              title  \\\n",
              "2    14.0      Oregon    rainstorm 2013 pinot gris ( willamette valley )   \n",
              "3    13.0    Michigan  st. julian 2013 reserve late harvest riesling ...   \n",
              "4    65.0      Oregon  sweet cheeks 2012 vintner 's reserve wild chil...   \n",
              "10   19.0  California  kirkland signature 2011 mountain cuvée caberne...   \n",
              "12   34.0  California  louis m. martini 2012 cabernet sauvignon ( ale...   \n",
              "\n",
              "               variety              winery  \n",
              "2           pinot gris           rainstorm  \n",
              "3             riesling          st. julian  \n",
              "4           pinot noir        sweet cheeks  \n",
              "10  cabernet sauvignon  kirkland signature  \n",
              "12  cabernet sauvignon    louis m. martini  "
            ],
            "text/html": [
              "\n",
              "  <div id=\"df-e058caa1-8f6c-42e4-9d9f-edb0fdc70310\">\n",
              "    <div class=\"colab-df-container\">\n",
              "      <div>\n",
              "<style scoped>\n",
              "    .dataframe tbody tr th:only-of-type {\n",
              "        vertical-align: middle;\n",
              "    }\n",
              "\n",
              "    .dataframe tbody tr th {\n",
              "        vertical-align: top;\n",
              "    }\n",
              "\n",
              "    .dataframe thead th {\n",
              "        text-align: right;\n",
              "    }\n",
              "</style>\n",
              "<table border=\"1\" class=\"dataframe\">\n",
              "  <thead>\n",
              "    <tr style=\"text-align: right;\">\n",
              "      <th></th>\n",
              "      <th>Unnamed: 0</th>\n",
              "      <th>description</th>\n",
              "      <th>points</th>\n",
              "      <th>price</th>\n",
              "      <th>province</th>\n",
              "      <th>title</th>\n",
              "      <th>variety</th>\n",
              "      <th>winery</th>\n",
              "    </tr>\n",
              "  </thead>\n",
              "  <tbody>\n",
              "    <tr>\n",
              "      <th>2</th>\n",
              "      <td>2</td>\n",
              "      <td>tart snappy , flavor lime flesh rind dominate ...</td>\n",
              "      <td>87</td>\n",
              "      <td>14.0</td>\n",
              "      <td>Oregon</td>\n",
              "      <td>rainstorm 2013 pinot gris ( willamette valley )</td>\n",
              "      <td>pinot gris</td>\n",
              "      <td>rainstorm</td>\n",
              "    </tr>\n",
              "    <tr>\n",
              "      <th>3</th>\n",
              "      <td>3</td>\n",
              "      <td>pineapple rind , lemon pith orange blossom sta...</td>\n",
              "      <td>87</td>\n",
              "      <td>13.0</td>\n",
              "      <td>Michigan</td>\n",
              "      <td>st. julian 2013 reserve late harvest riesling ...</td>\n",
              "      <td>riesling</td>\n",
              "      <td>st. julian</td>\n",
              "    </tr>\n",
              "    <tr>\n",
              "      <th>4</th>\n",
              "      <td>4</td>\n",
              "      <td>much like regular bottling 2012 , come across ...</td>\n",
              "      <td>87</td>\n",
              "      <td>65.0</td>\n",
              "      <td>Oregon</td>\n",
              "      <td>sweet cheeks 2012 vintner 's reserve wild chil...</td>\n",
              "      <td>pinot noir</td>\n",
              "      <td>sweet cheeks</td>\n",
              "    </tr>\n",
              "    <tr>\n",
              "      <th>10</th>\n",
              "      <td>10</td>\n",
              "      <td>soft , supple plum envelope oaky structure cab...</td>\n",
              "      <td>87</td>\n",
              "      <td>19.0</td>\n",
              "      <td>California</td>\n",
              "      <td>kirkland signature 2011 mountain cuvée caberne...</td>\n",
              "      <td>cabernet sauvignon</td>\n",
              "      <td>kirkland signature</td>\n",
              "    </tr>\n",
              "    <tr>\n",
              "      <th>12</th>\n",
              "      <td>12</td>\n",
              "      <td>slightly reduced , wine offer chalky , tannic ...</td>\n",
              "      <td>87</td>\n",
              "      <td>34.0</td>\n",
              "      <td>California</td>\n",
              "      <td>louis m. martini 2012 cabernet sauvignon ( ale...</td>\n",
              "      <td>cabernet sauvignon</td>\n",
              "      <td>louis m. martini</td>\n",
              "    </tr>\n",
              "  </tbody>\n",
              "</table>\n",
              "</div>\n",
              "      <button class=\"colab-df-convert\" onclick=\"convertToInteractive('df-e058caa1-8f6c-42e4-9d9f-edb0fdc70310')\"\n",
              "              title=\"Convert this dataframe to an interactive table.\"\n",
              "              style=\"display:none;\">\n",
              "        \n",
              "  <svg xmlns=\"http://www.w3.org/2000/svg\" height=\"24px\"viewBox=\"0 0 24 24\"\n",
              "       width=\"24px\">\n",
              "    <path d=\"M0 0h24v24H0V0z\" fill=\"none\"/>\n",
              "    <path d=\"M18.56 5.44l.94 2.06.94-2.06 2.06-.94-2.06-.94-.94-2.06-.94 2.06-2.06.94zm-11 1L8.5 8.5l.94-2.06 2.06-.94-2.06-.94L8.5 2.5l-.94 2.06-2.06.94zm10 10l.94 2.06.94-2.06 2.06-.94-2.06-.94-.94-2.06-.94 2.06-2.06.94z\"/><path d=\"M17.41 7.96l-1.37-1.37c-.4-.4-.92-.59-1.43-.59-.52 0-1.04.2-1.43.59L10.3 9.45l-7.72 7.72c-.78.78-.78 2.05 0 2.83L4 21.41c.39.39.9.59 1.41.59.51 0 1.02-.2 1.41-.59l7.78-7.78 2.81-2.81c.8-.78.8-2.07 0-2.86zM5.41 20L4 18.59l7.72-7.72 1.47 1.35L5.41 20z\"/>\n",
              "  </svg>\n",
              "      </button>\n",
              "      \n",
              "  <style>\n",
              "    .colab-df-container {\n",
              "      display:flex;\n",
              "      flex-wrap:wrap;\n",
              "      gap: 12px;\n",
              "    }\n",
              "\n",
              "    .colab-df-convert {\n",
              "      background-color: #E8F0FE;\n",
              "      border: none;\n",
              "      border-radius: 50%;\n",
              "      cursor: pointer;\n",
              "      display: none;\n",
              "      fill: #1967D2;\n",
              "      height: 32px;\n",
              "      padding: 0 0 0 0;\n",
              "      width: 32px;\n",
              "    }\n",
              "\n",
              "    .colab-df-convert:hover {\n",
              "      background-color: #E2EBFA;\n",
              "      box-shadow: 0px 1px 2px rgba(60, 64, 67, 0.3), 0px 1px 3px 1px rgba(60, 64, 67, 0.15);\n",
              "      fill: #174EA6;\n",
              "    }\n",
              "\n",
              "    [theme=dark] .colab-df-convert {\n",
              "      background-color: #3B4455;\n",
              "      fill: #D2E3FC;\n",
              "    }\n",
              "\n",
              "    [theme=dark] .colab-df-convert:hover {\n",
              "      background-color: #434B5C;\n",
              "      box-shadow: 0px 1px 3px 1px rgba(0, 0, 0, 0.15);\n",
              "      filter: drop-shadow(0px 1px 2px rgba(0, 0, 0, 0.3));\n",
              "      fill: #FFFFFF;\n",
              "    }\n",
              "  </style>\n",
              "\n",
              "      <script>\n",
              "        const buttonEl =\n",
              "          document.querySelector('#df-e058caa1-8f6c-42e4-9d9f-edb0fdc70310 button.colab-df-convert');\n",
              "        buttonEl.style.display =\n",
              "          google.colab.kernel.accessAllowed ? 'block' : 'none';\n",
              "\n",
              "        async function convertToInteractive(key) {\n",
              "          const element = document.querySelector('#df-e058caa1-8f6c-42e4-9d9f-edb0fdc70310');\n",
              "          const dataTable =\n",
              "            await google.colab.kernel.invokeFunction('convertToInteractive',\n",
              "                                                     [key], {});\n",
              "          if (!dataTable) return;\n",
              "\n",
              "          const docLinkHtml = 'Like what you see? Visit the ' +\n",
              "            '<a target=\"_blank\" href=https://colab.research.google.com/notebooks/data_table.ipynb>data table notebook</a>'\n",
              "            + ' to learn more about interactive tables.';\n",
              "          element.innerHTML = '';\n",
              "          dataTable['output_type'] = 'display_data';\n",
              "          await google.colab.output.renderOutput(dataTable, element);\n",
              "          const docLink = document.createElement('div');\n",
              "          docLink.innerHTML = docLinkHtml;\n",
              "          element.appendChild(docLink);\n",
              "        }\n",
              "      </script>\n",
              "    </div>\n",
              "  </div>\n",
              "  "
            ]
          },
          "metadata": {},
          "execution_count": 32
        }
      ],
      "source": [
        "wine_us.head()"
      ]
    },
    {
      "cell_type": "code",
      "execution_count": 33,
      "metadata": {
        "id": "QN1EmIcF2gHq"
      },
      "outputs": [],
      "source": [
        "wine_us.reset_index(inplace=True) "
      ]
    },
    {
      "cell_type": "code",
      "execution_count": 34,
      "metadata": {
        "colab": {
          "base_uri": "https://localhost:8080/"
        },
        "id": "ZMliPJgA47jI",
        "outputId": "6b74f9a0-9282-40b0-cb67-6b99462df16e"
      },
      "outputs": [
        {
          "output_type": "stream",
          "name": "stderr",
          "text": [
            "/usr/local/lib/python3.7/dist-packages/pandas/core/frame.py:4913: SettingWithCopyWarning: \n",
            "A value is trying to be set on a copy of a slice from a DataFrame\n",
            "\n",
            "See the caveats in the documentation: https://pandas.pydata.org/pandas-docs/stable/user_guide/indexing.html#returning-a-view-versus-a-copy\n",
            "  errors=errors,\n"
          ]
        }
      ],
      "source": [
        "wine_us.drop('index',axis=1,inplace=True)"
      ]
    },
    {
      "cell_type": "code",
      "execution_count": 35,
      "metadata": {
        "id": "1bSyGRMF2lnV"
      },
      "outputs": [],
      "source": [
        "vinho_u = []\n",
        "for i in wine_us.index:\n",
        "  a = f'vinho{i}'\n",
        "  vinho_u.append(a)\n"
      ]
    },
    {
      "cell_type": "code",
      "execution_count": 36,
      "metadata": {
        "colab": {
          "base_uri": "https://localhost:8080/"
        },
        "id": "oo9e8BFw3UEG",
        "outputId": "688aa065-05a5-4372-f8e2-4547d704453b"
      },
      "outputs": [
        {
          "output_type": "stream",
          "name": "stderr",
          "text": [
            "/usr/local/lib/python3.7/dist-packages/pandas/core/frame.py:4913: SettingWithCopyWarning: \n",
            "A value is trying to be set on a copy of a slice from a DataFrame\n",
            "\n",
            "See the caveats in the documentation: https://pandas.pydata.org/pandas-docs/stable/user_guide/indexing.html#returning-a-view-versus-a-copy\n",
            "  errors=errors,\n",
            "/usr/local/lib/python3.7/dist-packages/ipykernel_launcher.py:2: SettingWithCopyWarning: \n",
            "A value is trying to be set on a copy of a slice from a DataFrame.\n",
            "Try using .loc[row_indexer,col_indexer] = value instead\n",
            "\n",
            "See the caveats in the documentation: https://pandas.pydata.org/pandas-docs/stable/user_guide/indexing.html#returning-a-view-versus-a-copy\n",
            "  \n"
          ]
        }
      ],
      "source": [
        "wine_us.drop('Unnamed: 0',axis=1,inplace=True) \n",
        "wine_us['name'] = vinho_u"
      ]
    },
    {
      "cell_type": "code",
      "execution_count": 37,
      "metadata": {
        "colab": {
          "base_uri": "https://localhost:8080/"
        },
        "id": "7BIkwxZpHvva",
        "outputId": "08fb5761-290e-477b-d420-9666428b545d"
      },
      "outputs": [
        {
          "output_type": "stream",
          "name": "stderr",
          "text": [
            "/usr/local/lib/python3.7/dist-packages/ipykernel_launcher.py:1: SettingWithCopyWarning: \n",
            "A value is trying to be set on a copy of a slice from a DataFrame.\n",
            "Try using .loc[row_indexer,col_indexer] = value instead\n",
            "\n",
            "See the caveats in the documentation: https://pandas.pydata.org/pandas-docs/stable/user_guide/indexing.html#returning-a-view-versus-a-copy\n",
            "  \"\"\"Entry point for launching an IPython kernel.\n",
            "/usr/local/lib/python3.7/dist-packages/ipykernel_launcher.py:2: SettingWithCopyWarning: \n",
            "A value is trying to be set on a copy of a slice from a DataFrame.\n",
            "Try using .loc[row_indexer,col_indexer] = value instead\n",
            "\n",
            "See the caveats in the documentation: https://pandas.pydata.org/pandas-docs/stable/user_guide/indexing.html#returning-a-view-versus-a-copy\n",
            "  \n"
          ]
        }
      ],
      "source": [
        "wine_us['name'] = wine_us['name'].str.replace('vinho','')\n",
        "wine_us['name'] = wine_us['name'].astype(int)"
      ]
    },
    {
      "cell_type": "code",
      "execution_count": 38,
      "metadata": {
        "colab": {
          "base_uri": "https://localhost:8080/"
        },
        "id": "lp7R4Te6YkhI",
        "outputId": "5b30d871-7858-403e-fbbd-0ebd93c855d8"
      },
      "outputs": [
        {
          "output_type": "stream",
          "name": "stderr",
          "text": [
            "/usr/local/lib/python3.7/dist-packages/ipykernel_launcher.py:3: SettingWithCopyWarning: \n",
            "A value is trying to be set on a copy of a slice from a DataFrame.\n",
            "Try using .loc[row_indexer,col_indexer] = value instead\n",
            "\n",
            "See the caveats in the documentation: https://pandas.pydata.org/pandas-docs/stable/user_guide/indexing.html#returning-a-view-versus-a-copy\n",
            "  This is separate from the ipykernel package so we can avoid doing imports until\n"
          ]
        }
      ],
      "source": [
        "le = LabelEncoder()\n",
        "le.fit(wine_us['variety'])\n",
        "wine_us['variety'] = le.transform(wine_us['variety'])"
      ]
    },
    {
      "cell_type": "code",
      "execution_count": 39,
      "metadata": {
        "colab": {
          "base_uri": "https://localhost:8080/"
        },
        "id": "AvpcmFmWaU2O",
        "outputId": "9bd8f1d8-6ab2-49d8-d5f5-5fe91c86d272"
      },
      "outputs": [
        {
          "output_type": "stream",
          "name": "stderr",
          "text": [
            "/usr/local/lib/python3.7/dist-packages/ipykernel_launcher.py:2: SettingWithCopyWarning: \n",
            "A value is trying to be set on a copy of a slice from a DataFrame.\n",
            "Try using .loc[row_indexer,col_indexer] = value instead\n",
            "\n",
            "See the caveats in the documentation: https://pandas.pydata.org/pandas-docs/stable/user_guide/indexing.html#returning-a-view-versus-a-copy\n",
            "  \n",
            "/usr/local/lib/python3.7/dist-packages/ipykernel_launcher.py:5: SettingWithCopyWarning: \n",
            "A value is trying to be set on a copy of a slice from a DataFrame.\n",
            "Try using .loc[row_indexer,col_indexer] = value instead\n",
            "\n",
            "See the caveats in the documentation: https://pandas.pydata.org/pandas-docs/stable/user_guide/indexing.html#returning-a-view-versus-a-copy\n",
            "  \"\"\"\n"
          ]
        }
      ],
      "source": [
        "le.fit(wine_us['province'])\n",
        "wine_us['province'] = le.transform(wine_us['province'])\n",
        "\n",
        "le.fit(wine_us['winery'])\n",
        "wine_us['winery'] = le.transform(wine_us['winery'])"
      ]
    },
    {
      "cell_type": "code",
      "source": [
        "wine_us.drop_duplicates(inplace=True)"
      ],
      "metadata": {
        "colab": {
          "base_uri": "https://localhost:8080/"
        },
        "id": "ANLx85rBcZZ9",
        "outputId": "4435bfe2-9ce3-4d13-b18f-214289a6ab4c"
      },
      "execution_count": 82,
      "outputs": [
        {
          "output_type": "stream",
          "name": "stderr",
          "text": [
            "/usr/local/lib/python3.7/dist-packages/pandas/util/_decorators.py:311: SettingWithCopyWarning: \n",
            "A value is trying to be set on a copy of a slice from a DataFrame\n",
            "\n",
            "See the caveats in the documentation: https://pandas.pydata.org/pandas-docs/stable/user_guide/indexing.html#returning-a-view-versus-a-copy\n",
            "  return func(*args, **kwargs)\n"
          ]
        }
      ]
    },
    {
      "cell_type": "code",
      "execution_count": 83,
      "metadata": {
        "colab": {
          "base_uri": "https://localhost:8080/",
          "height": 206
        },
        "id": "D8qQmkP8a637",
        "outputId": "8292e226-2e14-49cf-8f4b-8e1df4c2703e"
      },
      "outputs": [
        {
          "output_type": "execute_result",
          "data": {
            "text/plain": [
              "                                         description  points  price  province  \\\n",
              "0  tart snappy , flavor lime flesh rind dominate ...      87   14.0        19   \n",
              "1  pineapple rind , lemon pith orange blossom sta...      87   13.0        11   \n",
              "2  much like regular bottling 2012 , come across ...      87   65.0        19   \n",
              "3  soft , supple plum envelope oaky structure cab...      87   19.0         2   \n",
              "4  slightly reduced , wine offer chalky , tannic ...      87   34.0         2   \n",
              "\n",
              "                                               title  variety  winery  name  \\\n",
              "0    rainstorm 2013 pinot gris ( willamette valley )      154    3823     0   \n",
              "1  st. julian 2013 reserve late harvest riesling ...      171    4479     1   \n",
              "2  sweet cheeks 2012 vintner 's reserve wild chil...      158    4609     2   \n",
              "3  kirkland signature 2011 mountain cuvée caberne...       27    2575     3   \n",
              "4  louis m. martini 2012 cabernet sauvignon ( ale...       27    2855     4   \n",
              "\n",
              "   cluster  \n",
              "0        0  \n",
              "1        3  \n",
              "2        3  \n",
              "3        2  \n",
              "4        2  "
            ],
            "text/html": [
              "\n",
              "  <div id=\"df-b4b8282f-5f71-42e3-8749-9d31a57d0078\">\n",
              "    <div class=\"colab-df-container\">\n",
              "      <div>\n",
              "<style scoped>\n",
              "    .dataframe tbody tr th:only-of-type {\n",
              "        vertical-align: middle;\n",
              "    }\n",
              "\n",
              "    .dataframe tbody tr th {\n",
              "        vertical-align: top;\n",
              "    }\n",
              "\n",
              "    .dataframe thead th {\n",
              "        text-align: right;\n",
              "    }\n",
              "</style>\n",
              "<table border=\"1\" class=\"dataframe\">\n",
              "  <thead>\n",
              "    <tr style=\"text-align: right;\">\n",
              "      <th></th>\n",
              "      <th>description</th>\n",
              "      <th>points</th>\n",
              "      <th>price</th>\n",
              "      <th>province</th>\n",
              "      <th>title</th>\n",
              "      <th>variety</th>\n",
              "      <th>winery</th>\n",
              "      <th>name</th>\n",
              "      <th>cluster</th>\n",
              "    </tr>\n",
              "  </thead>\n",
              "  <tbody>\n",
              "    <tr>\n",
              "      <th>0</th>\n",
              "      <td>tart snappy , flavor lime flesh rind dominate ...</td>\n",
              "      <td>87</td>\n",
              "      <td>14.0</td>\n",
              "      <td>19</td>\n",
              "      <td>rainstorm 2013 pinot gris ( willamette valley )</td>\n",
              "      <td>154</td>\n",
              "      <td>3823</td>\n",
              "      <td>0</td>\n",
              "      <td>0</td>\n",
              "    </tr>\n",
              "    <tr>\n",
              "      <th>1</th>\n",
              "      <td>pineapple rind , lemon pith orange blossom sta...</td>\n",
              "      <td>87</td>\n",
              "      <td>13.0</td>\n",
              "      <td>11</td>\n",
              "      <td>st. julian 2013 reserve late harvest riesling ...</td>\n",
              "      <td>171</td>\n",
              "      <td>4479</td>\n",
              "      <td>1</td>\n",
              "      <td>3</td>\n",
              "    </tr>\n",
              "    <tr>\n",
              "      <th>2</th>\n",
              "      <td>much like regular bottling 2012 , come across ...</td>\n",
              "      <td>87</td>\n",
              "      <td>65.0</td>\n",
              "      <td>19</td>\n",
              "      <td>sweet cheeks 2012 vintner 's reserve wild chil...</td>\n",
              "      <td>158</td>\n",
              "      <td>4609</td>\n",
              "      <td>2</td>\n",
              "      <td>3</td>\n",
              "    </tr>\n",
              "    <tr>\n",
              "      <th>3</th>\n",
              "      <td>soft , supple plum envelope oaky structure cab...</td>\n",
              "      <td>87</td>\n",
              "      <td>19.0</td>\n",
              "      <td>2</td>\n",
              "      <td>kirkland signature 2011 mountain cuvée caberne...</td>\n",
              "      <td>27</td>\n",
              "      <td>2575</td>\n",
              "      <td>3</td>\n",
              "      <td>2</td>\n",
              "    </tr>\n",
              "    <tr>\n",
              "      <th>4</th>\n",
              "      <td>slightly reduced , wine offer chalky , tannic ...</td>\n",
              "      <td>87</td>\n",
              "      <td>34.0</td>\n",
              "      <td>2</td>\n",
              "      <td>louis m. martini 2012 cabernet sauvignon ( ale...</td>\n",
              "      <td>27</td>\n",
              "      <td>2855</td>\n",
              "      <td>4</td>\n",
              "      <td>2</td>\n",
              "    </tr>\n",
              "  </tbody>\n",
              "</table>\n",
              "</div>\n",
              "      <button class=\"colab-df-convert\" onclick=\"convertToInteractive('df-b4b8282f-5f71-42e3-8749-9d31a57d0078')\"\n",
              "              title=\"Convert this dataframe to an interactive table.\"\n",
              "              style=\"display:none;\">\n",
              "        \n",
              "  <svg xmlns=\"http://www.w3.org/2000/svg\" height=\"24px\"viewBox=\"0 0 24 24\"\n",
              "       width=\"24px\">\n",
              "    <path d=\"M0 0h24v24H0V0z\" fill=\"none\"/>\n",
              "    <path d=\"M18.56 5.44l.94 2.06.94-2.06 2.06-.94-2.06-.94-.94-2.06-.94 2.06-2.06.94zm-11 1L8.5 8.5l.94-2.06 2.06-.94-2.06-.94L8.5 2.5l-.94 2.06-2.06.94zm10 10l.94 2.06.94-2.06 2.06-.94-2.06-.94-.94-2.06-.94 2.06-2.06.94z\"/><path d=\"M17.41 7.96l-1.37-1.37c-.4-.4-.92-.59-1.43-.59-.52 0-1.04.2-1.43.59L10.3 9.45l-7.72 7.72c-.78.78-.78 2.05 0 2.83L4 21.41c.39.39.9.59 1.41.59.51 0 1.02-.2 1.41-.59l7.78-7.78 2.81-2.81c.8-.78.8-2.07 0-2.86zM5.41 20L4 18.59l7.72-7.72 1.47 1.35L5.41 20z\"/>\n",
              "  </svg>\n",
              "      </button>\n",
              "      \n",
              "  <style>\n",
              "    .colab-df-container {\n",
              "      display:flex;\n",
              "      flex-wrap:wrap;\n",
              "      gap: 12px;\n",
              "    }\n",
              "\n",
              "    .colab-df-convert {\n",
              "      background-color: #E8F0FE;\n",
              "      border: none;\n",
              "      border-radius: 50%;\n",
              "      cursor: pointer;\n",
              "      display: none;\n",
              "      fill: #1967D2;\n",
              "      height: 32px;\n",
              "      padding: 0 0 0 0;\n",
              "      width: 32px;\n",
              "    }\n",
              "\n",
              "    .colab-df-convert:hover {\n",
              "      background-color: #E2EBFA;\n",
              "      box-shadow: 0px 1px 2px rgba(60, 64, 67, 0.3), 0px 1px 3px 1px rgba(60, 64, 67, 0.15);\n",
              "      fill: #174EA6;\n",
              "    }\n",
              "\n",
              "    [theme=dark] .colab-df-convert {\n",
              "      background-color: #3B4455;\n",
              "      fill: #D2E3FC;\n",
              "    }\n",
              "\n",
              "    [theme=dark] .colab-df-convert:hover {\n",
              "      background-color: #434B5C;\n",
              "      box-shadow: 0px 1px 3px 1px rgba(0, 0, 0, 0.15);\n",
              "      filter: drop-shadow(0px 1px 2px rgba(0, 0, 0, 0.3));\n",
              "      fill: #FFFFFF;\n",
              "    }\n",
              "  </style>\n",
              "\n",
              "      <script>\n",
              "        const buttonEl =\n",
              "          document.querySelector('#df-b4b8282f-5f71-42e3-8749-9d31a57d0078 button.colab-df-convert');\n",
              "        buttonEl.style.display =\n",
              "          google.colab.kernel.accessAllowed ? 'block' : 'none';\n",
              "\n",
              "        async function convertToInteractive(key) {\n",
              "          const element = document.querySelector('#df-b4b8282f-5f71-42e3-8749-9d31a57d0078');\n",
              "          const dataTable =\n",
              "            await google.colab.kernel.invokeFunction('convertToInteractive',\n",
              "                                                     [key], {});\n",
              "          if (!dataTable) return;\n",
              "\n",
              "          const docLinkHtml = 'Like what you see? Visit the ' +\n",
              "            '<a target=\"_blank\" href=https://colab.research.google.com/notebooks/data_table.ipynb>data table notebook</a>'\n",
              "            + ' to learn more about interactive tables.';\n",
              "          element.innerHTML = '';\n",
              "          dataTable['output_type'] = 'display_data';\n",
              "          await google.colab.output.renderOutput(dataTable, element);\n",
              "          const docLink = document.createElement('div');\n",
              "          docLink.innerHTML = docLinkHtml;\n",
              "          element.appendChild(docLink);\n",
              "        }\n",
              "      </script>\n",
              "    </div>\n",
              "  </div>\n",
              "  "
            ]
          },
          "metadata": {},
          "execution_count": 83
        }
      ],
      "source": [
        "wine_us.head()"
      ]
    },
    {
      "cell_type": "markdown",
      "source": [
        "Para fazer o sistema de recomendo vai ser utilizado esses três passos:\n",
        "- Usar clusterização para separar e assim trabalhar com meno volume de dados;\n",
        "- Pegar preços próximo ao vinho pedido;\n",
        "- vericar quais são as reviews que tem maior similaridade, a partir disso as três mais próximas vão ser as recomendadas."
      ],
      "metadata": {
        "id": "sBcGz37fJogI"
      }
    },
    {
      "cell_type": "code",
      "execution_count": 84,
      "metadata": {
        "id": "72t4Wz0t7U4l",
        "colab": {
          "base_uri": "https://localhost:8080/",
          "height": 393
        },
        "outputId": "d5a0d733-0d9f-45dd-a672-01cb51eda387"
      },
      "outputs": [
        {
          "output_type": "display_data",
          "data": {
            "text/plain": [
              "<Figure size 576x396 with 2 Axes>"
            ],
            "image/png": "[encoded data removed]"
          },
          "metadata": {}
        },
        {
          "output_type": "execute_result",
          "data": {
            "text/plain": [
              "<matplotlib.axes._subplots.AxesSubplot at 0x7f4629256dd0>"
            ]
          },
          "metadata": {},
          "execution_count": 84
        }
      ],
      "source": [
        "# Usnado as variavelis numericas para aplicar cluster\n",
        "\n",
        "# Aplicando o metodo do cotovelo\n",
        "wine_us_n = wine_us[['points','price','province','variety','winery']] # pegando as variaveis númericas\n",
        "\n",
        "cotovelo = KElbowVisualizer(KMeans(),k=(3,12)) # Criando o gráfico\n",
        "cotovelo.fit(wine_us_n)\n",
        "cotovelo.show()"
      ]
    },
    {
      "cell_type": "code",
      "source": [
        "kmean = KMeans(n_clusters=5).fit(wine_us_n)"
      ],
      "metadata": {
        "id": "ftOyv8glM17z"
      },
      "execution_count": 85,
      "outputs": []
    },
    {
      "cell_type": "code",
      "source": [
        "wine_us['cluster'] = kmean.labels_"
      ],
      "metadata": {
        "colab": {
          "base_uri": "https://localhost:8080/"
        },
        "id": "u1-7M2PcNmhg",
        "outputId": "b68a6d8e-f8d8-4800-b915-e8a94fef5c99"
      },
      "execution_count": 86,
      "outputs": [
        {
          "output_type": "stream",
          "name": "stderr",
          "text": [
            "/usr/local/lib/python3.7/dist-packages/ipykernel_launcher.py:1: SettingWithCopyWarning: \n",
            "A value is trying to be set on a copy of a slice from a DataFrame.\n",
            "Try using .loc[row_indexer,col_indexer] = value instead\n",
            "\n",
            "See the caveats in the documentation: https://pandas.pydata.org/pandas-docs/stable/user_guide/indexing.html#returning-a-view-versus-a-copy\n",
            "  \"\"\"Entry point for launching an IPython kernel.\n"
          ]
        }
      ]
    },
    {
      "cell_type": "code",
      "source": [
        "wine_us.head()"
      ],
      "metadata": {
        "colab": {
          "base_uri": "https://localhost:8080/",
          "height": 206
        },
        "id": "320pcDYKNrrn",
        "outputId": "687e4216-d170-4303-9177-053b145e673f"
      },
      "execution_count": 87,
      "outputs": [
        {
          "output_type": "execute_result",
          "data": {
            "text/plain": [
              "                                         description  points  price  province  \\\n",
              "0  tart snappy , flavor lime flesh rind dominate ...      87   14.0        19   \n",
              "1  pineapple rind , lemon pith orange blossom sta...      87   13.0        11   \n",
              "2  much like regular bottling 2012 , come across ...      87   65.0        19   \n",
              "3  soft , supple plum envelope oaky structure cab...      87   19.0         2   \n",
              "4  slightly reduced , wine offer chalky , tannic ...      87   34.0         2   \n",
              "\n",
              "                                               title  variety  winery  name  \\\n",
              "0    rainstorm 2013 pinot gris ( willamette valley )      154    3823     0   \n",
              "1  st. julian 2013 reserve late harvest riesling ...      171    4479     1   \n",
              "2  sweet cheeks 2012 vintner 's reserve wild chil...      158    4609     2   \n",
              "3  kirkland signature 2011 mountain cuvée caberne...       27    2575     3   \n",
              "4  louis m. martini 2012 cabernet sauvignon ( ale...       27    2855     4   \n",
              "\n",
              "   cluster  \n",
              "0        4  \n",
              "1        1  \n",
              "2        1  \n",
              "3        0  \n",
              "4        0  "
            ],
            "text/html": [
              "\n",
              "  <div id=\"df-207018c1-dbe2-4892-b4e2-375e232af472\">\n",
              "    <div class=\"colab-df-container\">\n",
              "      <div>\n",
              "<style scoped>\n",
              "    .dataframe tbody tr th:only-of-type {\n",
              "        vertical-align: middle;\n",
              "    }\n",
              "\n",
              "    .dataframe tbody tr th {\n",
              "        vertical-align: top;\n",
              "    }\n",
              "\n",
              "    .dataframe thead th {\n",
              "        text-align: right;\n",
              "    }\n",
              "</style>\n",
              "<table border=\"1\" class=\"dataframe\">\n",
              "  <thead>\n",
              "    <tr style=\"text-align: right;\">\n",
              "      <th></th>\n",
              "      <th>description</th>\n",
              "      <th>points</th>\n",
              "      <th>price</th>\n",
              "      <th>province</th>\n",
              "      <th>title</th>\n",
              "      <th>variety</th>\n",
              "      <th>winery</th>\n",
              "      <th>name</th>\n",
              "      <th>cluster</th>\n",
              "    </tr>\n",
              "  </thead>\n",
              "  <tbody>\n",
              "    <tr>\n",
              "      <th>0</th>\n",
              "      <td>tart snappy , flavor lime flesh rind dominate ...</td>\n",
              "      <td>87</td>\n",
              "      <td>14.0</td>\n",
              "      <td>19</td>\n",
              "      <td>rainstorm 2013 pinot gris ( willamette valley )</td>\n",
              "      <td>154</td>\n",
              "      <td>3823</td>\n",
              "      <td>0</td>\n",
              "      <td>4</td>\n",
              "    </tr>\n",
              "    <tr>\n",
              "      <th>1</th>\n",
              "      <td>pineapple rind , lemon pith orange blossom sta...</td>\n",
              "      <td>87</td>\n",
              "      <td>13.0</td>\n",
              "      <td>11</td>\n",
              "      <td>st. julian 2013 reserve late harvest riesling ...</td>\n",
              "      <td>171</td>\n",
              "      <td>4479</td>\n",
              "      <td>1</td>\n",
              "      <td>1</td>\n",
              "    </tr>\n",
              "    <tr>\n",
              "      <th>2</th>\n",
              "      <td>much like regular bottling 2012 , come across ...</td>\n",
              "      <td>87</td>\n",
              "      <td>65.0</td>\n",
              "      <td>19</td>\n",
              "      <td>sweet cheeks 2012 vintner 's reserve wild chil...</td>\n",
              "      <td>158</td>\n",
              "      <td>4609</td>\n",
              "      <td>2</td>\n",
              "      <td>1</td>\n",
              "    </tr>\n",
              "    <tr>\n",
              "      <th>3</th>\n",
              "      <td>soft , supple plum envelope oaky structure cab...</td>\n",
              "      <td>87</td>\n",
              "      <td>19.0</td>\n",
              "      <td>2</td>\n",
              "      <td>kirkland signature 2011 mountain cuvée caberne...</td>\n",
              "      <td>27</td>\n",
              "      <td>2575</td>\n",
              "      <td>3</td>\n",
              "      <td>0</td>\n",
              "    </tr>\n",
              "    <tr>\n",
              "      <th>4</th>\n",
              "      <td>slightly reduced , wine offer chalky , tannic ...</td>\n",
              "      <td>87</td>\n",
              "      <td>34.0</td>\n",
              "      <td>2</td>\n",
              "      <td>louis m. martini 2012 cabernet sauvignon ( ale...</td>\n",
              "      <td>27</td>\n",
              "      <td>2855</td>\n",
              "      <td>4</td>\n",
              "      <td>0</td>\n",
              "    </tr>\n",
              "  </tbody>\n",
              "</table>\n",
              "</div>\n",
              "      <button class=\"colab-df-convert\" onclick=\"convertToInteractive('df-207018c1-dbe2-4892-b4e2-375e232af472')\"\n",
              "              title=\"Convert this dataframe to an interactive table.\"\n",
              "              style=\"display:none;\">\n",
              "        \n",
              "  <svg xmlns=\"http://www.w3.org/2000/svg\" height=\"24px\"viewBox=\"0 0 24 24\"\n",
              "       width=\"24px\">\n",
              "    <path d=\"M0 0h24v24H0V0z\" fill=\"none\"/>\n",
              "    <path d=\"M18.56 5.44l.94 2.06.94-2.06 2.06-.94-2.06-.94-.94-2.06-.94 2.06-2.06.94zm-11 1L8.5 8.5l.94-2.06 2.06-.94-2.06-.94L8.5 2.5l-.94 2.06-2.06.94zm10 10l.94 2.06.94-2.06 2.06-.94-2.06-.94-.94-2.06-.94 2.06-2.06.94z\"/><path d=\"M17.41 7.96l-1.37-1.37c-.4-.4-.92-.59-1.43-.59-.52 0-1.04.2-1.43.59L10.3 9.45l-7.72 7.72c-.78.78-.78 2.05 0 2.83L4 21.41c.39.39.9.59 1.41.59.51 0 1.02-.2 1.41-.59l7.78-7.78 2.81-2.81c.8-.78.8-2.07 0-2.86zM5.41 20L4 18.59l7.72-7.72 1.47 1.35L5.41 20z\"/>\n",
              "  </svg>\n",
              "      </button>\n",
              "      \n",
              "  <style>\n",
              "    .colab-df-container {\n",
              "      display:flex;\n",
              "      flex-wrap:wrap;\n",
              "      gap: 12px;\n",
              "    }\n",
              "\n",
              "    .colab-df-convert {\n",
              "      background-color: #E8F0FE;\n",
              "      border: none;\n",
              "      border-radius: 50%;\n",
              "      cursor: pointer;\n",
              "      display: none;\n",
              "      fill: #1967D2;\n",
              "      height: 32px;\n",
              "      padding: 0 0 0 0;\n",
              "      width: 32px;\n",
              "    }\n",
              "\n",
              "    .colab-df-convert:hover {\n",
              "      background-color: #E2EBFA;\n",
              "      box-shadow: 0px 1px 2px rgba(60, 64, 67, 0.3), 0px 1px 3px 1px rgba(60, 64, 67, 0.15);\n",
              "      fill: #174EA6;\n",
              "    }\n",
              "\n",
              "    [theme=dark] .colab-df-convert {\n",
              "      background-color: #3B4455;\n",
              "      fill: #D2E3FC;\n",
              "    }\n",
              "\n",
              "    [theme=dark] .colab-df-convert:hover {\n",
              "      background-color: #434B5C;\n",
              "      box-shadow: 0px 1px 3px 1px rgba(0, 0, 0, 0.15);\n",
              "      filter: drop-shadow(0px 1px 2px rgba(0, 0, 0, 0.3));\n",
              "      fill: #FFFFFF;\n",
              "    }\n",
              "  </style>\n",
              "\n",
              "      <script>\n",
              "        const buttonEl =\n",
              "          document.querySelector('#df-207018c1-dbe2-4892-b4e2-375e232af472 button.colab-df-convert');\n",
              "        buttonEl.style.display =\n",
              "          google.colab.kernel.accessAllowed ? 'block' : 'none';\n",
              "\n",
              "        async function convertToInteractive(key) {\n",
              "          const element = document.querySelector('#df-207018c1-dbe2-4892-b4e2-375e232af472');\n",
              "          const dataTable =\n",
              "            await google.colab.kernel.invokeFunction('convertToInteractive',\n",
              "                                                     [key], {});\n",
              "          if (!dataTable) return;\n",
              "\n",
              "          const docLinkHtml = 'Like what you see? Visit the ' +\n",
              "            '<a target=\"_blank\" href=https://colab.research.google.com/notebooks/data_table.ipynb>data table notebook</a>'\n",
              "            + ' to learn more about interactive tables.';\n",
              "          element.innerHTML = '';\n",
              "          dataTable['output_type'] = 'display_data';\n",
              "          await google.colab.output.renderOutput(dataTable, element);\n",
              "          const docLink = document.createElement('div');\n",
              "          docLink.innerHTML = docLinkHtml;\n",
              "          element.appendChild(docLink);\n",
              "        }\n",
              "      </script>\n",
              "    </div>\n",
              "  </div>\n",
              "  "
            ]
          },
          "metadata": {},
          "execution_count": 87
        }
      ]
    },
    {
      "cell_type": "code",
      "source": [
        "# Exemplo com o vinho 0\n",
        "\n",
        "primeira = wine_us.iloc[0]\n",
        "primeira"
      ],
      "metadata": {
        "colab": {
          "base_uri": "https://localhost:8080/"
        },
        "id": "4zrewoIaN9Zy",
        "outputId": "2cbd5fe1-af1f-402e-c386-1a96b3e2b8d3"
      },
      "execution_count": 88,
      "outputs": [
        {
          "output_type": "execute_result",
          "data": {
            "text/plain": [
              "description    tart snappy , flavor lime flesh rind dominate ...\n",
              "points                                                        87\n",
              "price                                                       14.0\n",
              "province                                                      19\n",
              "title            rainstorm 2013 pinot gris ( willamette valley )\n",
              "variety                                                      154\n",
              "winery                                                      3823\n",
              "name                                                           0\n",
              "cluster                                                        4\n",
              "Name: 0, dtype: object"
            ]
          },
          "metadata": {},
          "execution_count": 88
        }
      ]
    },
    {
      "cell_type": "code",
      "source": [
        "wine_cl = wine_us[wine_us['cluster']==primeira[-1]]\n",
        "wine_cl.drop(wine_cl.index[0],inplace=True)"
      ],
      "metadata": {
        "colab": {
          "base_uri": "https://localhost:8080/"
        },
        "id": "Fo2fnnfKOq7B",
        "outputId": "38c2b402-021a-4b91-8b78-d07021a74f92"
      },
      "execution_count": 89,
      "outputs": [
        {
          "output_type": "stream",
          "name": "stderr",
          "text": [
            "/usr/local/lib/python3.7/dist-packages/pandas/core/frame.py:4913: SettingWithCopyWarning: \n",
            "A value is trying to be set on a copy of a slice from a DataFrame\n",
            "\n",
            "See the caveats in the documentation: https://pandas.pydata.org/pandas-docs/stable/user_guide/indexing.html#returning-a-view-versus-a-copy\n",
            "  errors=errors,\n"
          ]
        }
      ]
    },
    {
      "cell_type": "code",
      "source": [
        "wine_cl.head()"
      ],
      "metadata": {
        "colab": {
          "base_uri": "https://localhost:8080/",
          "height": 206
        },
        "id": "y_ZQ6faXPgnP",
        "outputId": "109e943f-7cb2-45ae-bf5e-7e5f9fc544d9"
      },
      "execution_count": 90,
      "outputs": [
        {
          "output_type": "execute_result",
          "data": {
            "text/plain": [
              "                                          description  points  price  \\\n",
              "6   red fruit aroma pervade nose , cigar box menth...      87   32.0   \n",
              "7   ripe aroma dark berry mingle ample note black ...      87   23.0   \n",
              "16  the clean , brisk mouthfeel give slightly oake...      86   14.0   \n",
              "20  this show jelly-like flavor orange pear , eart...      85   30.0   \n",
              "23  syrupy dense , wine jammy plum vanilla , indet...      86  100.0   \n",
              "\n",
              "    province                                              title  variety  \\\n",
              "6         24             quiévremont 2012 meritage ( virginia )      109   \n",
              "7         24    quiévremont 2012 vin de maison red ( virginia )      166   \n",
              "16         2   robert hall 2011 sauvignon blanc ( paso robles )      188   \n",
              "20         2  rustridge 2010 estate bottled chardonnay ( nap...       49   \n",
              "23         2  okapi 2013 estate cabernet sauvignon ( napa va...       27   \n",
              "\n",
              "    winery  name  cluster  \n",
              "6     3803     6        4  \n",
              "7     3803     7        4  \n",
              "16    3968    16        4  \n",
              "20    4065    20        4  \n",
              "23    3417    23        4  "
            ],
            "text/html": [
              "\n",
              "  <div id=\"df-ce420e86-d851-4ced-b071-4d9639e4ae91\">\n",
              "    <div class=\"colab-df-container\">\n",
              "      <div>\n",
              "<style scoped>\n",
              "    .dataframe tbody tr th:only-of-type {\n",
              "        vertical-align: middle;\n",
              "    }\n",
              "\n",
              "    .dataframe tbody tr th {\n",
              "        vertical-align: top;\n",
              "    }\n",
              "\n",
              "    .dataframe thead th {\n",
              "        text-align: right;\n",
              "    }\n",
              "</style>\n",
              "<table border=\"1\" class=\"dataframe\">\n",
              "  <thead>\n",
              "    <tr style=\"text-align: right;\">\n",
              "      <th></th>\n",
              "      <th>description</th>\n",
              "      <th>points</th>\n",
              "      <th>price</th>\n",
              "      <th>province</th>\n",
              "      <th>title</th>\n",
              "      <th>variety</th>\n",
              "      <th>winery</th>\n",
              "      <th>name</th>\n",
              "      <th>cluster</th>\n",
              "    </tr>\n",
              "  </thead>\n",
              "  <tbody>\n",
              "    <tr>\n",
              "      <th>6</th>\n",
              "      <td>red fruit aroma pervade nose , cigar box menth...</td>\n",
              "      <td>87</td>\n",
              "      <td>32.0</td>\n",
              "      <td>24</td>\n",
              "      <td>quiévremont 2012 meritage ( virginia )</td>\n",
              "      <td>109</td>\n",
              "      <td>3803</td>\n",
              "      <td>6</td>\n",
              "      <td>4</td>\n",
              "    </tr>\n",
              "    <tr>\n",
              "      <th>7</th>\n",
              "      <td>ripe aroma dark berry mingle ample note black ...</td>\n",
              "      <td>87</td>\n",
              "      <td>23.0</td>\n",
              "      <td>24</td>\n",
              "      <td>quiévremont 2012 vin de maison red ( virginia )</td>\n",
              "      <td>166</td>\n",
              "      <td>3803</td>\n",
              "      <td>7</td>\n",
              "      <td>4</td>\n",
              "    </tr>\n",
              "    <tr>\n",
              "      <th>16</th>\n",
              "      <td>the clean , brisk mouthfeel give slightly oake...</td>\n",
              "      <td>86</td>\n",
              "      <td>14.0</td>\n",
              "      <td>2</td>\n",
              "      <td>robert hall 2011 sauvignon blanc ( paso robles )</td>\n",
              "      <td>188</td>\n",
              "      <td>3968</td>\n",
              "      <td>16</td>\n",
              "      <td>4</td>\n",
              "    </tr>\n",
              "    <tr>\n",
              "      <th>20</th>\n",
              "      <td>this show jelly-like flavor orange pear , eart...</td>\n",
              "      <td>85</td>\n",
              "      <td>30.0</td>\n",
              "      <td>2</td>\n",
              "      <td>rustridge 2010 estate bottled chardonnay ( nap...</td>\n",
              "      <td>49</td>\n",
              "      <td>4065</td>\n",
              "      <td>20</td>\n",
              "      <td>4</td>\n",
              "    </tr>\n",
              "    <tr>\n",
              "      <th>23</th>\n",
              "      <td>syrupy dense , wine jammy plum vanilla , indet...</td>\n",
              "      <td>86</td>\n",
              "      <td>100.0</td>\n",
              "      <td>2</td>\n",
              "      <td>okapi 2013 estate cabernet sauvignon ( napa va...</td>\n",
              "      <td>27</td>\n",
              "      <td>3417</td>\n",
              "      <td>23</td>\n",
              "      <td>4</td>\n",
              "    </tr>\n",
              "  </tbody>\n",
              "</table>\n",
              "</div>\n",
              "      <button class=\"colab-df-convert\" onclick=\"convertToInteractive('df-ce420e86-d851-4ced-b071-4d9639e4ae91')\"\n",
              "              title=\"Convert this dataframe to an interactive table.\"\n",
              "              style=\"display:none;\">\n",
              "        \n",
              "  <svg xmlns=\"http://www.w3.org/2000/svg\" height=\"24px\"viewBox=\"0 0 24 24\"\n",
              "       width=\"24px\">\n",
              "    <path d=\"M0 0h24v24H0V0z\" fill=\"none\"/>\n",
              "    <path d=\"M18.56 5.44l.94 2.06.94-2.06 2.06-.94-2.06-.94-.94-2.06-.94 2.06-2.06.94zm-11 1L8.5 8.5l.94-2.06 2.06-.94-2.06-.94L8.5 2.5l-.94 2.06-2.06.94zm10 10l.94 2.06.94-2.06 2.06-.94-2.06-.94-.94-2.06-.94 2.06-2.06.94z\"/><path d=\"M17.41 7.96l-1.37-1.37c-.4-.4-.92-.59-1.43-.59-.52 0-1.04.2-1.43.59L10.3 9.45l-7.72 7.72c-.78.78-.78 2.05 0 2.83L4 21.41c.39.39.9.59 1.41.59.51 0 1.02-.2 1.41-.59l7.78-7.78 2.81-2.81c.8-.78.8-2.07 0-2.86zM5.41 20L4 18.59l7.72-7.72 1.47 1.35L5.41 20z\"/>\n",
              "  </svg>\n",
              "      </button>\n",
              "      \n",
              "  <style>\n",
              "    .colab-df-container {\n",
              "      display:flex;\n",
              "      flex-wrap:wrap;\n",
              "      gap: 12px;\n",
              "    }\n",
              "\n",
              "    .colab-df-convert {\n",
              "      background-color: #E8F0FE;\n",
              "      border: none;\n",
              "      border-radius: 50%;\n",
              "      cursor: pointer;\n",
              "      display: none;\n",
              "      fill: #1967D2;\n",
              "      height: 32px;\n",
              "      padding: 0 0 0 0;\n",
              "      width: 32px;\n",
              "    }\n",
              "\n",
              "    .colab-df-convert:hover {\n",
              "      background-color: #E2EBFA;\n",
              "      box-shadow: 0px 1px 2px rgba(60, 64, 67, 0.3), 0px 1px 3px 1px rgba(60, 64, 67, 0.15);\n",
              "      fill: #174EA6;\n",
              "    }\n",
              "\n",
              "    [theme=dark] .colab-df-convert {\n",
              "      background-color: #3B4455;\n",
              "      fill: #D2E3FC;\n",
              "    }\n",
              "\n",
              "    [theme=dark] .colab-df-convert:hover {\n",
              "      background-color: #434B5C;\n",
              "      box-shadow: 0px 1px 3px 1px rgba(0, 0, 0, 0.15);\n",
              "      filter: drop-shadow(0px 1px 2px rgba(0, 0, 0, 0.3));\n",
              "      fill: #FFFFFF;\n",
              "    }\n",
              "  </style>\n",
              "\n",
              "      <script>\n",
              "        const buttonEl =\n",
              "          document.querySelector('#df-ce420e86-d851-4ced-b071-4d9639e4ae91 button.colab-df-convert');\n",
              "        buttonEl.style.display =\n",
              "          google.colab.kernel.accessAllowed ? 'block' : 'none';\n",
              "\n",
              "        async function convertToInteractive(key) {\n",
              "          const element = document.querySelector('#df-ce420e86-d851-4ced-b071-4d9639e4ae91');\n",
              "          const dataTable =\n",
              "            await google.colab.kernel.invokeFunction('convertToInteractive',\n",
              "                                                     [key], {});\n",
              "          if (!dataTable) return;\n",
              "\n",
              "          const docLinkHtml = 'Like what you see? Visit the ' +\n",
              "            '<a target=\"_blank\" href=https://colab.research.google.com/notebooks/data_table.ipynb>data table notebook</a>'\n",
              "            + ' to learn more about interactive tables.';\n",
              "          element.innerHTML = '';\n",
              "          dataTable['output_type'] = 'display_data';\n",
              "          await google.colab.output.renderOutput(dataTable, element);\n",
              "          const docLink = document.createElement('div');\n",
              "          docLink.innerHTML = docLinkHtml;\n",
              "          element.appendChild(docLink);\n",
              "        }\n",
              "      </script>\n",
              "    </div>\n",
              "  </div>\n",
              "  "
            ]
          },
          "metadata": {},
          "execution_count": 90
        }
      ]
    },
    {
      "cell_type": "code",
      "source": [
        "# Verificando os preços próximos\n",
        "wine_cl = wine_cl[wine_cl['price']< (primeira[2]+10) ]"
      ],
      "metadata": {
        "id": "QVjuqDiYQQ2n"
      },
      "execution_count": 91,
      "outputs": []
    },
    {
      "cell_type": "code",
      "source": [
        "texto_comparar = nlp(primeira[0])\n",
        "por_simil = []\n",
        "for i in range(len(wine_cl['description'])):\n",
        "  lista = list(wine_cl['description'])\n",
        "  simi = texto_comparar.similarity(nlp(lista[i]))\n",
        "  por_simil.append(simi)"
      ],
      "metadata": {
        "colab": {
          "base_uri": "https://localhost:8080/"
        },
        "id": "FLNH-4WrQ18F",
        "outputId": "b17afd2e-e32f-49dd-c446-e90b4aefb8be"
      },
      "execution_count": 92,
      "outputs": [
        {
          "output_type": "stream",
          "name": "stderr",
          "text": [
            "/usr/local/lib/python3.7/dist-packages/ipykernel_launcher.py:5: UserWarning: [W007] The model you're using has no word vectors loaded, so the result of the Doc.similarity method will be based on the tagger, parser and NER, which may not give useful similarity judgements. This may happen if you're using one of the small models, e.g. `en_core_web_sm`, which don't ship with word vectors and only use context-sensitive tensors. You can always add your own word vectors, or use one of the larger models instead if available.\n",
            "  \"\"\"\n"
          ]
        }
      ]
    },
    {
      "cell_type": "code",
      "source": [
        "wine_cl['simi'] = por_simil"
      ],
      "metadata": {
        "id": "msAD1FCcXPyq"
      },
      "execution_count": 93,
      "outputs": []
    },
    {
      "cell_type": "code",
      "source": [
        "wine_cl.sort_values(by='simi',ascending=False)[0:3]"
      ],
      "metadata": {
        "colab": {
          "base_uri": "https://localhost:8080/",
          "height": 240
        },
        "id": "rtIcmlK4YJS-",
        "outputId": "1c378139-69c8-487e-8776-4644042bb38a"
      },
      "execution_count": 94,
      "outputs": [
        {
          "output_type": "execute_result",
          "data": {
            "text/plain": [
              "                                             description  points  price  \\\n",
              "54040  this well-oaked , smoky wine great value . it ...      87    9.0   \n",
              "48880  this well-oaked , smoky wine great value . it ...      87    9.0   \n",
              "44887  this straightforward , well-balanced , medium-...      88   20.0   \n",
              "\n",
              "       province                                              title  variety  \\\n",
              "54040         2  oak grove 2016 family reserve chardonnay ( cal...       49   \n",
              "48880         2  oak grove 2016 family reserve chardonnay ( cal...       49   \n",
              "44887         2        navarro 2013 pinot noir ( anderson valley )      158   \n",
              "\n",
              "       winery   name  cluster      simi  \n",
              "54040    3389  54040        4  0.915903  \n",
              "48880    3389  48880        4  0.915903  \n",
              "44887    3311  44887        4  0.907370  "
            ],
            "text/html": [
              "\n",
              "  <div id=\"df-ea27e610-37e5-4737-93e8-25d5dd2d61a9\">\n",
              "    <div class=\"colab-df-container\">\n",
              "      <div>\n",
              "<style scoped>\n",
              "    .dataframe tbody tr th:only-of-type {\n",
              "        vertical-align: middle;\n",
              "    }\n",
              "\n",
              "    .dataframe tbody tr th {\n",
              "        vertical-align: top;\n",
              "    }\n",
              "\n",
              "    .dataframe thead th {\n",
              "        text-align: right;\n",
              "    }\n",
              "</style>\n",
              "<table border=\"1\" class=\"dataframe\">\n",
              "  <thead>\n",
              "    <tr style=\"text-align: right;\">\n",
              "      <th></th>\n",
              "      <th>description</th>\n",
              "      <th>points</th>\n",
              "      <th>price</th>\n",
              "      <th>province</th>\n",
              "      <th>title</th>\n",
              "      <th>variety</th>\n",
              "      <th>winery</th>\n",
              "      <th>name</th>\n",
              "      <th>cluster</th>\n",
              "      <th>simi</th>\n",
              "    </tr>\n",
              "  </thead>\n",
              "  <tbody>\n",
              "    <tr>\n",
              "      <th>54040</th>\n",
              "      <td>this well-oaked , smoky wine great value . it ...</td>\n",
              "      <td>87</td>\n",
              "      <td>9.0</td>\n",
              "      <td>2</td>\n",
              "      <td>oak grove 2016 family reserve chardonnay ( cal...</td>\n",
              "      <td>49</td>\n",
              "      <td>3389</td>\n",
              "      <td>54040</td>\n",
              "      <td>4</td>\n",
              "      <td>0.915903</td>\n",
              "    </tr>\n",
              "    <tr>\n",
              "      <th>48880</th>\n",
              "      <td>this well-oaked , smoky wine great value . it ...</td>\n",
              "      <td>87</td>\n",
              "      <td>9.0</td>\n",
              "      <td>2</td>\n",
              "      <td>oak grove 2016 family reserve chardonnay ( cal...</td>\n",
              "      <td>49</td>\n",
              "      <td>3389</td>\n",
              "      <td>48880</td>\n",
              "      <td>4</td>\n",
              "      <td>0.915903</td>\n",
              "    </tr>\n",
              "    <tr>\n",
              "      <th>44887</th>\n",
              "      <td>this straightforward , well-balanced , medium-...</td>\n",
              "      <td>88</td>\n",
              "      <td>20.0</td>\n",
              "      <td>2</td>\n",
              "      <td>navarro 2013 pinot noir ( anderson valley )</td>\n",
              "      <td>158</td>\n",
              "      <td>3311</td>\n",
              "      <td>44887</td>\n",
              "      <td>4</td>\n",
              "      <td>0.907370</td>\n",
              "    </tr>\n",
              "  </tbody>\n",
              "</table>\n",
              "</div>\n",
              "      <button class=\"colab-df-convert\" onclick=\"convertToInteractive('df-ea27e610-37e5-4737-93e8-25d5dd2d61a9')\"\n",
              "              title=\"Convert this dataframe to an interactive table.\"\n",
              "              style=\"display:none;\">\n",
              "        \n",
              "  <svg xmlns=\"http://www.w3.org/2000/svg\" height=\"24px\"viewBox=\"0 0 24 24\"\n",
              "       width=\"24px\">\n",
              "    <path d=\"M0 0h24v24H0V0z\" fill=\"none\"/>\n",
              "    <path d=\"M18.56 5.44l.94 2.06.94-2.06 2.06-.94-2.06-.94-.94-2.06-.94 2.06-2.06.94zm-11 1L8.5 8.5l.94-2.06 2.06-.94-2.06-.94L8.5 2.5l-.94 2.06-2.06.94zm10 10l.94 2.06.94-2.06 2.06-.94-2.06-.94-.94-2.06-.94 2.06-2.06.94z\"/><path d=\"M17.41 7.96l-1.37-1.37c-.4-.4-.92-.59-1.43-.59-.52 0-1.04.2-1.43.59L10.3 9.45l-7.72 7.72c-.78.78-.78 2.05 0 2.83L4 21.41c.39.39.9.59 1.41.59.51 0 1.02-.2 1.41-.59l7.78-7.78 2.81-2.81c.8-.78.8-2.07 0-2.86zM5.41 20L4 18.59l7.72-7.72 1.47 1.35L5.41 20z\"/>\n",
              "  </svg>\n",
              "      </button>\n",
              "      \n",
              "  <style>\n",
              "    .colab-df-container {\n",
              "      display:flex;\n",
              "      flex-wrap:wrap;\n",
              "      gap: 12px;\n",
              "    }\n",
              "\n",
              "    .colab-df-convert {\n",
              "      background-color: #E8F0FE;\n",
              "      border: none;\n",
              "      border-radius: 50%;\n",
              "      cursor: pointer;\n",
              "      display: none;\n",
              "      fill: #1967D2;\n",
              "      height: 32px;\n",
              "      padding: 0 0 0 0;\n",
              "      width: 32px;\n",
              "    }\n",
              "\n",
              "    .colab-df-convert:hover {\n",
              "      background-color: #E2EBFA;\n",
              "      box-shadow: 0px 1px 2px rgba(60, 64, 67, 0.3), 0px 1px 3px 1px rgba(60, 64, 67, 0.15);\n",
              "      fill: #174EA6;\n",
              "    }\n",
              "\n",
              "    [theme=dark] .colab-df-convert {\n",
              "      background-color: #3B4455;\n",
              "      fill: #D2E3FC;\n",
              "    }\n",
              "\n",
              "    [theme=dark] .colab-df-convert:hover {\n",
              "      background-color: #434B5C;\n",
              "      box-shadow: 0px 1px 3px 1px rgba(0, 0, 0, 0.15);\n",
              "      filter: drop-shadow(0px 1px 2px rgba(0, 0, 0, 0.3));\n",
              "      fill: #FFFFFF;\n",
              "    }\n",
              "  </style>\n",
              "\n",
              "      <script>\n",
              "        const buttonEl =\n",
              "          document.querySelector('#df-ea27e610-37e5-4737-93e8-25d5dd2d61a9 button.colab-df-convert');\n",
              "        buttonEl.style.display =\n",
              "          google.colab.kernel.accessAllowed ? 'block' : 'none';\n",
              "\n",
              "        async function convertToInteractive(key) {\n",
              "          const element = document.querySelector('#df-ea27e610-37e5-4737-93e8-25d5dd2d61a9');\n",
              "          const dataTable =\n",
              "            await google.colab.kernel.invokeFunction('convertToInteractive',\n",
              "                                                     [key], {});\n",
              "          if (!dataTable) return;\n",
              "\n",
              "          const docLinkHtml = 'Like what you see? Visit the ' +\n",
              "            '<a target=\"_blank\" href=https://colab.research.google.com/notebooks/data_table.ipynb>data table notebook</a>'\n",
              "            + ' to learn more about interactive tables.';\n",
              "          element.innerHTML = '';\n",
              "          dataTable['output_type'] = 'display_data';\n",
              "          await google.colab.output.renderOutput(dataTable, element);\n",
              "          const docLink = document.createElement('div');\n",
              "          docLink.innerHTML = docLinkHtml;\n",
              "          element.appendChild(docLink);\n",
              "        }\n",
              "      </script>\n",
              "    </div>\n",
              "  </div>\n",
              "  "
            ]
          },
          "metadata": {},
          "execution_count": 94
        }
      ]
    },
    {
      "cell_type": "markdown",
      "source": [
        "Agora que o exemplo deu certo, vamos aplicar uma função para recomendar ao usuario três  vinhos"
      ],
      "metadata": {
        "id": "hVCYlx-HZAFj"
      }
    },
    {
      "cell_type": "code",
      "source": [
        "def top3(id_vinho):\n",
        "  index = wine_us.iloc[id_vinho]\n",
        "  num = index[-1]\n",
        "  wine_cl = wine_us[wine_us['cluster']==index[-1]]\n",
        "  wine_cl.drop_duplicates(inplace=True)\n",
        "  wine_cl.drop(wine_cl.index[num],inplace=True)\n",
        "\n",
        "  wine_cl = wine_cl[wine_cl['price']< (index[2]+10) ]\n",
        "  texto_comparar = nlp(index[0])\n",
        "  por_simil = []\n",
        "\n",
        "  for i in range(len(wine_cl['description'])):\n",
        "    lista = list(wine_cl['description'])\n",
        "    simi = texto_comparar.similarity(nlp(lista[i]))\n",
        "    por_simil.append(simi)\n",
        " \n",
        "  wine_cl['simi'] = por_simil\n",
        "  top = wine_cl.sort_values(by='simi',ascending=False)[0:3]\n",
        "  return top\n"
      ],
      "metadata": {
        "id": "3jf9hgmDY9Cr"
      },
      "execution_count": 103,
      "outputs": []
    },
    {
      "cell_type": "code",
      "source": [
        "top3(10) # Mostrando o funcionamento do sitema de recomendação"
      ],
      "metadata": {
        "colab": {
          "base_uri": "https://localhost:8080/",
          "height": 468
        },
        "id": "0CGIoElSc_A8",
        "outputId": "00f07ddf-d5cb-4d51-cfce-9d7829c3636b"
      },
      "execution_count": 104,
      "outputs": [
        {
          "output_type": "stream",
          "name": "stderr",
          "text": [
            "/usr/local/lib/python3.7/dist-packages/pandas/util/_decorators.py:311: SettingWithCopyWarning: \n",
            "A value is trying to be set on a copy of a slice from a DataFrame\n",
            "\n",
            "See the caveats in the documentation: https://pandas.pydata.org/pandas-docs/stable/user_guide/indexing.html#returning-a-view-versus-a-copy\n",
            "  return func(*args, **kwargs)\n",
            "/usr/local/lib/python3.7/dist-packages/pandas/core/frame.py:4913: SettingWithCopyWarning: \n",
            "A value is trying to be set on a copy of a slice from a DataFrame\n",
            "\n",
            "See the caveats in the documentation: https://pandas.pydata.org/pandas-docs/stable/user_guide/indexing.html#returning-a-view-versus-a-copy\n",
            "  errors=errors,\n",
            "/usr/local/lib/python3.7/dist-packages/ipykernel_launcher.py:14: UserWarning: [W007] The model you're using has no word vectors loaded, so the result of the Doc.similarity method will be based on the tagger, parser and NER, which may not give useful similarity judgements. This may happen if you're using one of the small models, e.g. `en_core_web_sm`, which don't ship with word vectors and only use context-sensitive tensors. You can always add your own word vectors, or use one of the larger models instead if available.\n",
            "  \n"
          ]
        },
        {
          "output_type": "execute_result",
          "data": {
            "text/plain": [
              "                                             description  points  price  \\\n",
              "27780  sun-dried raisin plum note give full-bodied so...      87   20.0   \n",
              "52213  vibrant aroma cranberry , raspberry red curran...      90   24.0   \n",
              "23687  tight-lipped aroma golden fig dried strawberry...      85   18.0   \n",
              "\n",
              "       province                                              title  variety  \\\n",
              "27780         2  avalon 2014 cab cabernet sauvignon ( california )       27   \n",
              "52213        25  angel vine 2012 stonetree vineyard zinfandel (...      255   \n",
              "23687        12             augusta winery 2009 norton ( augusta )      139   \n",
              "\n",
              "       winery   name  cluster      simi  \n",
              "27780     328  27780        2  0.956678  \n",
              "52213     199  52213        2  0.954169  \n",
              "23687     315  23687        2  0.949106  "
            ],
            "text/html": [
              "\n",
              "  <div id=\"df-f069c0f7-1a29-4053-a1fa-812040f588de\">\n",
              "    <div class=\"colab-df-container\">\n",
              "      <div>\n",
              "<style scoped>\n",
              "    .dataframe tbody tr th:only-of-type {\n",
              "        vertical-align: middle;\n",
              "    }\n",
              "\n",
              "    .dataframe tbody tr th {\n",
              "        vertical-align: top;\n",
              "    }\n",
              "\n",
              "    .dataframe thead th {\n",
              "        text-align: right;\n",
              "    }\n",
              "</style>\n",
              "<table border=\"1\" class=\"dataframe\">\n",
              "  <thead>\n",
              "    <tr style=\"text-align: right;\">\n",
              "      <th></th>\n",
              "      <th>description</th>\n",
              "      <th>points</th>\n",
              "      <th>price</th>\n",
              "      <th>province</th>\n",
              "      <th>title</th>\n",
              "      <th>variety</th>\n",
              "      <th>winery</th>\n",
              "      <th>name</th>\n",
              "      <th>cluster</th>\n",
              "      <th>simi</th>\n",
              "    </tr>\n",
              "  </thead>\n",
              "  <tbody>\n",
              "    <tr>\n",
              "      <th>27780</th>\n",
              "      <td>sun-dried raisin plum note give full-bodied so...</td>\n",
              "      <td>87</td>\n",
              "      <td>20.0</td>\n",
              "      <td>2</td>\n",
              "      <td>avalon 2014 cab cabernet sauvignon ( california )</td>\n",
              "      <td>27</td>\n",
              "      <td>328</td>\n",
              "      <td>27780</td>\n",
              "      <td>2</td>\n",
              "      <td>0.956678</td>\n",
              "    </tr>\n",
              "    <tr>\n",
              "      <th>52213</th>\n",
              "      <td>vibrant aroma cranberry , raspberry red curran...</td>\n",
              "      <td>90</td>\n",
              "      <td>24.0</td>\n",
              "      <td>25</td>\n",
              "      <td>angel vine 2012 stonetree vineyard zinfandel (...</td>\n",
              "      <td>255</td>\n",
              "      <td>199</td>\n",
              "      <td>52213</td>\n",
              "      <td>2</td>\n",
              "      <td>0.954169</td>\n",
              "    </tr>\n",
              "    <tr>\n",
              "      <th>23687</th>\n",
              "      <td>tight-lipped aroma golden fig dried strawberry...</td>\n",
              "      <td>85</td>\n",
              "      <td>18.0</td>\n",
              "      <td>12</td>\n",
              "      <td>augusta winery 2009 norton ( augusta )</td>\n",
              "      <td>139</td>\n",
              "      <td>315</td>\n",
              "      <td>23687</td>\n",
              "      <td>2</td>\n",
              "      <td>0.949106</td>\n",
              "    </tr>\n",
              "  </tbody>\n",
              "</table>\n",
              "</div>\n",
              "      <button class=\"colab-df-convert\" onclick=\"convertToInteractive('df-f069c0f7-1a29-4053-a1fa-812040f588de')\"\n",
              "              title=\"Convert this dataframe to an interactive table.\"\n",
              "              style=\"display:none;\">\n",
              "        \n",
              "  <svg xmlns=\"http://www.w3.org/2000/svg\" height=\"24px\"viewBox=\"0 0 24 24\"\n",
              "       width=\"24px\">\n",
              "    <path d=\"M0 0h24v24H0V0z\" fill=\"none\"/>\n",
              "    <path d=\"M18.56 5.44l.94 2.06.94-2.06 2.06-.94-2.06-.94-.94-2.06-.94 2.06-2.06.94zm-11 1L8.5 8.5l.94-2.06 2.06-.94-2.06-.94L8.5 2.5l-.94 2.06-2.06.94zm10 10l.94 2.06.94-2.06 2.06-.94-2.06-.94-.94-2.06-.94 2.06-2.06.94z\"/><path d=\"M17.41 7.96l-1.37-1.37c-.4-.4-.92-.59-1.43-.59-.52 0-1.04.2-1.43.59L10.3 9.45l-7.72 7.72c-.78.78-.78 2.05 0 2.83L4 21.41c.39.39.9.59 1.41.59.51 0 1.02-.2 1.41-.59l7.78-7.78 2.81-2.81c.8-.78.8-2.07 0-2.86zM5.41 20L4 18.59l7.72-7.72 1.47 1.35L5.41 20z\"/>\n",
              "  </svg>\n",
              "      </button>\n",
              "      \n",
              "  <style>\n",
              "    .colab-df-container {\n",
              "      display:flex;\n",
              "      flex-wrap:wrap;\n",
              "      gap: 12px;\n",
              "    }\n",
              "\n",
              "    .colab-df-convert {\n",
              "      background-color: #E8F0FE;\n",
              "      border: none;\n",
              "      border-radius: 50%;\n",
              "      cursor: pointer;\n",
              "      display: none;\n",
              "      fill: #1967D2;\n",
              "      height: 32px;\n",
              "      padding: 0 0 0 0;\n",
              "      width: 32px;\n",
              "    }\n",
              "\n",
              "    .colab-df-convert:hover {\n",
              "      background-color: #E2EBFA;\n",
              "      box-shadow: 0px 1px 2px rgba(60, 64, 67, 0.3), 0px 1px 3px 1px rgba(60, 64, 67, 0.15);\n",
              "      fill: #174EA6;\n",
              "    }\n",
              "\n",
              "    [theme=dark] .colab-df-convert {\n",
              "      background-color: #3B4455;\n",
              "      fill: #D2E3FC;\n",
              "    }\n",
              "\n",
              "    [theme=dark] .colab-df-convert:hover {\n",
              "      background-color: #434B5C;\n",
              "      box-shadow: 0px 1px 3px 1px rgba(0, 0, 0, 0.15);\n",
              "      filter: drop-shadow(0px 1px 2px rgba(0, 0, 0, 0.3));\n",
              "      fill: #FFFFFF;\n",
              "    }\n",
              "  </style>\n",
              "\n",
              "      <script>\n",
              "        const buttonEl =\n",
              "          document.querySelector('#df-f069c0f7-1a29-4053-a1fa-812040f588de button.colab-df-convert');\n",
              "        buttonEl.style.display =\n",
              "          google.colab.kernel.accessAllowed ? 'block' : 'none';\n",
              "\n",
              "        async function convertToInteractive(key) {\n",
              "          const element = document.querySelector('#df-f069c0f7-1a29-4053-a1fa-812040f588de');\n",
              "          const dataTable =\n",
              "            await google.colab.kernel.invokeFunction('convertToInteractive',\n",
              "                                                     [key], {});\n",
              "          if (!dataTable) return;\n",
              "\n",
              "          const docLinkHtml = 'Like what you see? Visit the ' +\n",
              "            '<a target=\"_blank\" href=https://colab.research.google.com/notebooks/data_table.ipynb>data table notebook</a>'\n",
              "            + ' to learn more about interactive tables.';\n",
              "          element.innerHTML = '';\n",
              "          dataTable['output_type'] = 'display_data';\n",
              "          await google.colab.output.renderOutput(dataTable, element);\n",
              "          const docLink = document.createElement('div');\n",
              "          docLink.innerHTML = docLinkHtml;\n",
              "          element.appendChild(docLink);\n",
              "        }\n",
              "      </script>\n",
              "    </div>\n",
              "  </div>\n",
              "  "
            ]
          },
          "metadata": {},
          "execution_count": 104
        }
      ]
    },
    {
      "cell_type": "markdown",
      "source": [
        "Aqui contruimos nosso sistema de classificação."
      ],
      "metadata": {
        "id": "4UkgVNX6hxUQ"
      }
    },
    {
      "cell_type": "markdown",
      "source": [
        "## 3ª Questão\n",
        "(4 pontos) Relatório: construa um relatório utilizando o Markdown para escrever. Seja criativo para apresentar seus achados e siga os passos abaixo:"
      ],
      "metadata": {
        "id": "RgLLnTebiMnQ"
      }
    },
    {
      "cell_type": "markdown",
      "source": [
        "# Relatório Sysma\n",
        "\n",
        "Olá caro(s) cliente(s), espero que esteja(m) bem, somo da startup Sysma, uma startup especializada em contrui sistema de recomendação neste relatório, apresentaremos um sitema de recomendação chamado de *Winesys*, um sistema que recomenda vinho com base no preço, na uva produzida e no pontos dados pelos criticos, além da similaridade entre os textos, usando algoritmos de aprendizado de máquina e que tem como objetivo fortalecer negócios locais através da tecnologia.\n",
        "\n",
        "# Análise\n",
        "\n",
        "Primeiro, iremos mostrar insigths olhando para os dados fornecidos:\n",
        "\n",
        "![image](https://user-images.githubusercontent.com/39843884/179370155-238b86a9-52d0-47a6-8d4d-703d170ce550.png)\n",
        "\n",
        "Os Estados que mais produziu vinho foi o Estado da Califórnia, em torno de 35 mil, nota-se então uma discrepância, se comparado aos outros Estados.\n",
        "\n",
        "![image](https://user-images.githubusercontent.com/39843884/179370261-d460a504-afdc-4a9e-bc8b-232d7868082a.png)\n",
        "\n",
        "Vericamos que os pontos estão basicamente entre 80 e 97,5, mostrando que em geral, a qualidade dos vinhos é boa, e que a maioria dos vinho estão em torno de 87,5 pontos e 90 pontos.\n",
        "\n",
        "![image](https://user-images.githubusercontent.com/39843884/179370371-68f11ef7-8030-4186-bc09-f84c6f63b659.png)\n",
        "\n",
        "Pela questão dos preços,temos valores muitos discrepantes, como pode mostrar o desvio padrão no titulo.Neste sentido irá ser excluido o valores acima de 400 porque dificilmente alguém ira compra um vinho tão mais caro do que comprou, e esses preços presentes não se tem produto próximo que tenham esse valor.\n",
        "\n",
        "![image](https://user-images.githubusercontent.com/39843884/179370412-694d2d30-e771-4d0c-bb30-662acb1bb860.png)\n",
        "\n",
        "Nesse gráfico podemos ver que os pontos não neccessariamente vai ter uma correlação com o preço, mas podemos ver que há uma concentração dos pontos em torno de 88, reforçando o que foi visto no histograma de pontos dos vinhos.\n",
        "\n",
        "![image](https://user-images.githubusercontent.com/39843884/179370501-cfa81cba-bdf8-4eec-854d-3736bf7d34e4.png)\n",
        "\n",
        "Nesse Gráfico, temos as 10 vinheteira que mais produzem, podemos ver que três se destacam em relação aos demais, como o gráfico mostra.\n",
        "\n",
        "![image](https://user-images.githubusercontent.com/39843884/179370534-8c2049b3-6828-49f8-b1f7-273f27afafc4.png)\n",
        "\n",
        "Além disso podemos ver que dois autore se destacam na publicação das review de vinho, com mais de 8 mil.\n",
        "\n",
        "\n",
        "## Sobre o sistema\n",
        "\n",
        "Neste modelo, foram aplicados as seguintes procedimentos.\n",
        "\n",
        "- Os dados foram separados em clusters, com objetivo de otimizar o sitema, e com o recurso do método de cotovelo, dividimos em 5.\n",
        "- A partir disso, a idei foi de que, quando usuário selecionasse o produto, o sistema vai trabalhar apenas com o cluster em o produto está, dai seleciona-se apena os produtos com preço de dez mais caro;\n",
        "- a partir disso se aplica a similaridade emtre as reviews, e os três mais similares, são indicadas ao cliente\n",
        "\n",
        "## Considerações Finais\n",
        "\n",
        "Este projeto é um *mvp*, apesar de estar funcionando, o mesmo necessita ser otimizado para gerar as recomendações quase que de forma instatânea, além disso, precisa ser coletados vinho com preços mais caros, para que o sistema melhore, pois certos produtos não puderam ser usados para esse sistema devido o seu alto valor e não ter outros produtos muito próximo a eles.\n",
        "\n",
        "Também é preciso vericar como os clientes irão se comportar diante do sistema, e apartir disso, ir moldando de acordo de com a reação dos clientes\n",
        "\n",
        "Com essas considerações, como startup, acreditamos na viabilidade do produto e ela se diferencia se comparado ao mercado porque no mercado ou só tem analise de texto ou só dos pontos, mas neste sistema temos a integração tanto de texto, como de pontos e outras variaveis, possibilitando assim o conhecimento de negócios locais e satifação do cliente não consumindo produtos muito distantes do seu preço.\n"
      ],
      "metadata": {
        "id": "OSb2YSF9shTx"
      }
    },
    {
      "cell_type": "markdown",
      "source": [
        "\n",
        "\n",
        "---\n",
        "\n"
      ],
      "metadata": {
        "id": "pKm4swpsiSeH"
      }
    }
  ],
  "metadata": {
    "colab": {
      "name": "Wine Reviews.ipynb",
      "provenance": []
    },
    "kernelspec": {
      "display_name": "Python 3",
      "name": "python3"
    },
    "language_info": {
      "name": "python"
    }
  },
  "nbformat": 4,
  "nbformat_minor": 0
}